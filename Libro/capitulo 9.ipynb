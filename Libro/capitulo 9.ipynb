{
 "cells": [
  {
   "cell_type": "markdown",
   "id": "3149da63",
   "metadata": {},
   "source": [
    "<h1> 9. Modelos ARIMA </h1>"
   ]
  },
  {
   "cell_type": "code",
   "execution_count": 10,
   "id": "a3706366",
   "metadata": {},
   "outputs": [],
   "source": [
    "library(fpp3)\n",
    "library(readr)\n",
    "library(tseries)\n",
    "library(dplyr)\n",
    "library(ggplot2)\n",
    "library(zoo)\n",
    "library(quantmod)\n",
    "library(forecast)\n",
    "library(slider)\n",
    "library(tidyverse)\n",
    "library(TTR) #Para medias moviles"
   ]
  },
  {
   "cell_type": "code",
   "execution_count": 2,
   "id": "0c38bef6",
   "metadata": {},
   "outputs": [],
   "source": [
    "setwd(\"C:\\\\Users\\\\81799\\\\OneDrive\\\\Documentos\\\\ESFM_CLASES\\\\Servicio Social ARTF\\\\Machine Learning\\\\section1\\\\ARTF_2017_2020\\\\ABRIL_ARTF\")\n",
    "Ton_Netas_P <- read.csv(\"Toneladas_Netas__Productos_2014_2022.csv\")\n",
    "Ton_Netas_P <- Ton_Netas_P[-99,]\n",
    "Ton_Netas_P$X <- as.yearmon(as.factor(Ton_Netas_P$X), format =\"%m/%Y\")\n",
    "Ton_Netas_P <- xts(Ton_Netas_P[,c(2:6)], order.by = Ton_Netas_P$X )\n",
    "T_N_P <-  data.frame(Ton_Netas_P) #Ordeno por fechas y la trae como indice\n",
    "Maiz_ts <- ts(T_N_P[,1],  frequency = 12, star = c(2014,1))"
   ]
  },
  {
   "cell_type": "markdown",
   "id": "1e6d0786",
   "metadata": {},
   "source": [
    "Los modelos **ARIMA** proporcionan otro enfoque para el pronóstico de series de tiempo. El suavizado exponencial y los modelos ARIMA son los dos enfoques más utilizados para el pronóstico de series de tiempo y brindan enfoques complementarios al problema.  Mientras que los modelos de suavizado exponencial se basan en una descripción de la tendencia y la estacionalidad de los datos, los modelos ARIMA pretenden describir las autocorrelaciones de los datos.\n",
    "\n",
    "Antes de presentar los modelos ARIMA, primero debemos analizar el concepto de estacionariedad y la técnica de diferenciación de series de tiempo..\n",
    "\n",
    "<h2> 9.1 Estacionariedad y diferenciación </h2>\n",
    "\n",
    "Una **serie de tiempo estacionaria** es aquella cuyas propiedas estadística no dependen del tiempo en el que se observa la serie. Por lo tanto, las series de tiempo con tendencias, o con estacionalidad, NO son estacionarias: la tendencia y la estacionalidad afectarán el valor de la serie de tiempo en diferentes momentos. Por otro ldo, una **serie de ruido blanco** es Estacionaria, debería verse igual en cualquier momento. \n",
    "\n",
    "Algunos casos pueden ser confusos: una serie temporal con un comportamiento cíclico (pero sin tendencia ni estacionalidad) es estacionaria. Esto se debe a que los ciclos no tienen una duración fija, por lo que antes de observar la serie no podemos estar seguros de donde estarán los picos y valles de los ciclos.\n",
    "\n",
    "En general, una **serie de tiempo estacionaria** NO tendrá patrrones predecibles a largo plazo. Los diagramas de tiempo mostrarán que la serie es más o menos horizontal (aunque es posible algún comportamiento cíclico), con varianza constante."
   ]
  },
  {
   "cell_type": "markdown",
   "id": "9cb4ba71",
   "metadata": {},
   "source": [
    "Las transformaciones suelen ser útiles para estabilizar una serie antes de estimar modelos. Esto es especialemnte importante para modelos $ARIMA$, que necesitan que la series sean **estacionarias** antes de estimar los modelos. Aunque la mayoría de las series NO son estacionariaas, $ARIMA$ es eficaz siempre y cuando la serie se pueda convertir en estacionaria mediante la aplicación de transformaciones tales como el *logaritmo natural*, la *diferenciación* o la *diferenciación estacional*\n",
    "\n",
    "\n",
    "Las transformaciones como logaritmos pueden ayudar a estabilizar la varianza de una serie temporal. La **diferenciación** puede ayudar a estabilizar la media de una sere temporal eliminando los cambios en el nivel de una serie temporal y, por lo tanto, eliminando (o reduciendo) la tendencia y estacionalidad. Además de la gráfica de tiempo de los datos, la gráficaa $ACF$ también es útil para identificar series de tiempo NO estacionarias. Para una serie de tiempo estacionaria, el $ACF$ caerá a $0$ relativamente rápido, mientras que el $ACF$ de datos NO estacionarios disminuye lentamente. Además, para datos NO estacionarios, el valor de $\\varphi _1$ suele ser grande y positivo"
   ]
  },
  {
   "cell_type": "markdown",
   "id": "98853aef",
   "metadata": {},
   "source": [
    "<h3> 9.1.1 Modelo de paseo aleatorio </h3>\n",
    "\n",
    "La serie diferenciada es el *cambio* entre observaciones consecutivas en la serie original y se puede escribir como:\n",
    "$$y_t ^{\\; \\prime}=y_t-y_{t-1} $$ La serie diferenciada solo tendra $T-1$ valores, ya que no es posible calcular una diferencia $y_t ^{\\; \\prime}$ para la primera observación.\n",
    "\n",
    "Cuando la serie diferenciada es ruido blanco, el modelo de la serie original se puede escribir como :\n",
    "$$y_t-y_{t-1}=\\varepsilon _t$$ Donde $\\varepsilon _t$ denota ruido blanco. Reorganizar esto conduce al modelo de \"caminata aleatoria\" $$y_t=y_{t-1}+\\varepsilon _t$$  Los modelos de paseo aleatorio se utilizan ampliamente para datos NO estacionarios, en particular datos financieros y económicos. Los paseos aleatorios suelente tener: \n",
    "* Largos períodos de tendencias aparentes hacía arriba o hacia abajo.\n",
    "* Cambios de dirección repentinos e impredecibles.\n",
    "\n",
    "Los pronósticos de un modelo de caminata aleatoria son iguales a la última observación, ya que los movimientos futuros son impredecibles y es igualmente probable que sean haacía arriba o hacía abajo. Por lo tanto, el modelo de caminata aleatoria respalda los **pronósticos ingenuos**.\n",
    "\n",
    "Un modelo estrechamente relacionado permite que las diferencias tengan una media distinta de cero. Entonces:\n",
    "\n",
    "$y_t-y_{t-1}=c+\\varepsilon _t \\; $   o   $ \\; y_t=y_{t-1}+\\varepsilon _t+c$\n",
    "\n",
    "\n",
    "\n",
    "El valor de $c$ es el promedio de los cambios entre observaciones consecutivas. Si $c$ es positivo, entonces el cambio promedio es un aumento en el valor de $y_t$. Por lo tanto, si $y_t$ tenderá  desplazarse hacía arriba. Sin embargo, si $c$ es negativo, tenderá a descender.\n",
    "<h3> 9.1.2 Diferenciación de segundo orden </h3>\n",
    "\n",
    "Ocasionalmente, los datos diferenciados no parecerán estacionarios y puede ser necesario diferenciar los datos por segunda vez para obtener una serie estacionaria: $$\\begin{array}{l} y_t ^ {\\; \\prime \\prime }&=y_t ^{\\; \\prime }-y^{\\; \\prime }_{t-1} \\\\ y_t ^ {\\; \\prime \\prime }&=(y_t-y_{t-1})-(y_{t-1}-y_{t-2})  \\\\ y_t ^ {\\; \\prime \\prime }&=y_t-2y_{t-1}+y_{t-2} \\end{array}    $$\n",
    "En este caso, $y_t ^{\\; \\prime \\prime }$ tendrá $T-2$ valores. Luego, modelaríamos el \"cambio en los cambios\", de los datos originales. En la práctica, casi nunca es necesario ir más allá de las diferencias de segundo orden.\n",
    "\n",
    "\n",
    "<h3> 9.1.2 Diferenciación estacional </h3> \n",
    "\n",
    "Una diferencia estacional es la diferencia entre una observación y la observación anterior de la misma temporadaa. Entonces $$y_t^ {\\; \\prime} =y_t-t_{t-m}$$ Donde $m=$ el número de estaciones. Estos también se denominan **\"lag-m diferencias\"** ya que restamos la observación después de un retraso de $m$ períodos.\n",
    "\n",
    "Si los datos con diferencias estacionales parecen ruido blanco, entonces un modelo apropiado para los datos originales es: $$y_t=y_{t-m}+\\varepsilon _t$$ Los pronósticos de este modelo son iguales a la última observación de la temporada relevante. Es decir, este modelo proporciona pronósticos ingenuos estacionales.\n",
    "\n",
    "Nota: Las diferencias estacionales elimina la estacionalidad y la tendencia.\n",
    "\n",
    "Para distinguir las **diferencias estacionales** de las **diferencias ordinarias**, a veces nos referimos a las diferencias ordinarias como \"primeras diferencias\", es decir diferencias en el desasfase $1$.\n",
    "A veces es necesario tomar tanto una diferencia estacional como una primera diferencia para obtener datos estacionarios.\n",
    "\n",
    "Si $y_t^{\\; \\prime} =y_t-y_{t-m}$ denota una serie diferenciada estacionalmente, entonces la serie diferenciada estacionalmente dos veces es: \n",
    "$$\\begin{array}{l} y_t ^ {\\; \\prime \\prime }&=y_t ^{\\; \\prime }-y^{\\; \\prime }_{t-1} \\\\ y_t ^ {\\; \\prime \\prime }&=(y_t-y_{t-m})-(y_{t-1}-y_{t-m-1})  \\\\ y_t ^ {\\; \\prime \\prime }&=y_t-y_{t-1}-y_{t-m}+y_{t-m-1} \\end{array}    $$ Cuando se aplican tanto las diferencias estacionales como las primeras, no importa cual se haga primero; el resultado será el mismo. Sin embargo, si los datos tienen un fuerte patrón estacional, recomendamos que primero se realice la diferenciación estacional, porque la serie resultante a veces será estacionaria y no habrá necesidad de una primera diferencia adicional. Si primero se hace la primera diferenciación, todavía habrá estacionalidad presente.\n",
    "\n",
    "Tenga en cuenta que aplicar más diferencias de las requeridas inducirá dinámicas falsas o autocorrelaciones que realmente no existen en la serie temporal. Por lo tanto, **haga la menor cantidad de diferencias necesarias para obtener una serie estacionaria.**\n",
    "\n",
    "Es importante que si se utiliza la diferenciación las diferencias sean interpretables. Las **primeras diferencias** son el cambio entre una observación y la siguiente. Las **diferencias estacionales** son el cambio entre un año y el siguiente. Es poco probable que otros retrasos tengan mucho sentido interpretable y deben evitarse.\n",
    "\n",
    "<h2> 9.2 Pruebas de raíz unitarias </h2> \n",
    "\n",
    "Una forma de determinar más objetivamente si se requiere una diferenciación es usar una **prueba de raíz unitaria**. Estas son pruebas de hipótesis estadísticas de estacionariedad que están diseñadas para determinar si se requiere diferenciación.\n",
    "\n",
    "Hay varías pruebas de raíz unitaria disponibles, que se basan en diferentes suposiciones y pueden dar lugar a respuestas contradictorias. "
   ]
  },
  {
   "cell_type": "markdown",
   "id": "d09ac0a2",
   "metadata": {},
   "source": [
    "Recordemos que:\n",
    "\n",
    "* Si $p-valor<\\alpha $ **Rechazamos $H_0$**\n",
    "* Si $p-valor>\\alpha $ **Aceptamos $H_0$**"
   ]
  },
  {
   "cell_type": "markdown",
   "id": "9f19b19f",
   "metadata": {},
   "source": [
    "<h3> 9.2.1 Prueba de Kwiatkowski-Phillips-Schamidt-Shin (KPSS) </h3>\n",
    "\n",
    "Utilizamos la **prueba de Kwiatkowski-Phillips-Schmidt-Shin (KPSS)**. En esta prueba:\n",
    "\n",
    "* $H_0:$ Datos estacionarios \n",
    "* $H_a:$ Datos NO estacionarios\n",
    "\n",
    "En consecuencia, los $p-valor<0.05$ sugieren que se requiere una diferenciación . La prueba se puede calcular usando la función **unitroot_kpss()**"
   ]
  },
  {
   "cell_type": "code",
   "execution_count": 3,
   "id": "b638c8f8",
   "metadata": {},
   "outputs": [
    {
     "data": {
      "text/html": [
       "<dl class=dl-horizontal>\n",
       "\t<dt>kpss_stat</dt>\n",
       "\t\t<dd>0.727983122694057</dd>\n",
       "\t<dt>kpss_pvalue</dt>\n",
       "\t\t<dd>0.0110015343005403</dd>\n",
       "</dl>\n"
      ],
      "text/latex": [
       "\\begin{description*}\n",
       "\\item[kpss\\textbackslash{}\\_stat] 0.727983122694057\n",
       "\\item[kpss\\textbackslash{}\\_pvalue] 0.0110015343005403\n",
       "\\end{description*}\n"
      ],
      "text/markdown": [
       "kpss_stat\n",
       ":   0.727983122694057kpss_pvalue\n",
       ":   0.0110015343005403\n",
       "\n"
      ],
      "text/plain": [
       "  kpss_stat kpss_pvalue \n",
       " 0.72798312  0.01100153 "
      ]
     },
     "metadata": {},
     "output_type": "display_data"
    }
   ],
   "source": [
    "unitroot_kpss(Maiz_ts)"
   ]
  },
  {
   "cell_type": "markdown",
   "id": "ae409d43",
   "metadata": {},
   "source": [
    "En este caso como $p-valor<0.05$, ya que $0.0110015<0.05$, entonces **Rechazamos $H_0$** y **Aceptamos $H_a$**. Por lo tanto, tenemos una **Serie NO estacionaria**"
   ]
  },
  {
   "cell_type": "markdown",
   "id": "978b4690",
   "metadata": {},
   "source": [
    "<h3> 9.2.2 Prueba de Dickey-Fuller Aumentada </h3>\n",
    "\n",
    "Utilizamos la **Dickey-Fuller Aumentada**. En esta prueba:\n",
    "\n",
    "* $H_0:$ Datos NO estacionarios \n",
    "* $H_a:$ Datos estacionarios"
   ]
  },
  {
   "cell_type": "code",
   "execution_count": 4,
   "id": "4a04d2ed",
   "metadata": {},
   "outputs": [
    {
     "name": "stderr",
     "output_type": "stream",
     "text": [
      "Warning message in adf.test(Maiz_ts, alternative = \"stationary\", k = 0):\n",
      "\"p-value smaller than printed p-value\""
     ]
    },
    {
     "data": {
      "text/plain": [
       "\n",
       "\tAugmented Dickey-Fuller Test\n",
       "\n",
       "data:  Maiz_ts\n",
       "Dickey-Fuller = -5.1793, Lag order = 0, p-value = 0.01\n",
       "alternative hypothesis: stationary\n"
      ]
     },
     "metadata": {},
     "output_type": "display_data"
    }
   ],
   "source": [
    "adf.test(Maiz_ts, alternative = \"stationary\",k=0)"
   ]
  },
  {
   "cell_type": "markdown",
   "id": "b491e08f",
   "metadata": {},
   "source": [
    "En este caso como $p-value<0.05$, ya que $0.01<0.05$, entonces **Aceptamos $H_a$**, concluimos que tenemos una **serie estacionaria**"
   ]
  },
  {
   "cell_type": "markdown",
   "id": "c8e61d76",
   "metadata": {},
   "source": [
    "\n",
    "Siempre es mejor aplicar ambas pruebas, de modo que se pueda asegurar que la serie es realmente estacionaria. Los posibles resultados de aplicr estas pruebas estacionarias son los siguientes:\n",
    "1. Ambas pruebas concluyen que la serie NO es estacionaria, por lo tanto tenemos una **serie NO estacionaria.**\n",
    "2. Ambas pruebas concluyen que la serie es estacionaria, por lo tanto tenemos una **serie estacionaria.**\n",
    "3. $KPSS$ indica estacionariedad y $ADF$ indica NO estacionariedad, por lo tanto **La serie es tendencia estacionaria**. La tendencia debe eliminarse para que la serie sea estrictamente estacionaria. Se compruba la estacionariedad de la serie sin tendenciaa.\n",
    "4. $KPSS$ indica NO estacionariedad y $ADF$ indica estacionariedad, por lo tanto **la serie es estacionaria en diferencia**. La diferenciación se nutilizará para hacer que la serie sea estacionaria. Se comprueba la estacionariedad de la serie diferenciada.\n",
    "\n",
    "\n",
    "**Conclusión:**\n",
    "\n",
    "Su utilizan dos pruebas para comprobar la estacionariedad de una serie temporal, a saber, la prueba $ADF$ y a prueba $KPSS$. La eliminación de la tendencia se convierten en series de tiempo estacionarias estrictas. El modelo de pronóstico requerido ahora se puede aplicar en una serie de datos de tiempo estacionarios.\n"
   ]
  },
  {
   "cell_type": "markdown",
   "id": "e1464292",
   "metadata": {},
   "source": [
    "Dado la prueba $KPSS$ podemos diferenciar los datos y volver a aplicar la prueba.\n",
    "\n",
    "**Prueba de estacionariedad KPSS**"
   ]
  },
  {
   "cell_type": "code",
   "execution_count": 5,
   "id": "e227972d",
   "metadata": {},
   "outputs": [
    {
     "data": {
      "text/html": [
       "<dl class=dl-horizontal>\n",
       "\t<dt>kpss_stat</dt>\n",
       "\t\t<dd>0.038982786625231</dd>\n",
       "\t<dt>kpss_pvalue</dt>\n",
       "\t\t<dd>0.1</dd>\n",
       "</dl>\n"
      ],
      "text/latex": [
       "\\begin{description*}\n",
       "\\item[kpss\\textbackslash{}\\_stat] 0.038982786625231\n",
       "\\item[kpss\\textbackslash{}\\_pvalue] 0.1\n",
       "\\end{description*}\n"
      ],
      "text/markdown": [
       "kpss_stat\n",
       ":   0.038982786625231kpss_pvalue\n",
       ":   0.1\n",
       "\n"
      ],
      "text/plain": [
       "  kpss_stat kpss_pvalue \n",
       " 0.03898279  0.10000000 "
      ]
     },
     "metadata": {},
     "output_type": "display_data"
    }
   ],
   "source": [
    "Maiz_ts_diff <- diff(Maiz_ts, differences =1) #Hacemos una serie de tiempo aplicada ya primera diferencia \n",
    "unitroot_kpss(Maiz_ts_diff)"
   ]
  },
  {
   "cell_type": "markdown",
   "id": "a9268b0d",
   "metadata": {},
   "source": [
    "En esta ocasión, dada la primera diferencia, tenemos que $p-valor>\\alpha $, ya que $0.1>0.05$, con esto tenemos que **Aceptamos $H_0$**. Por lo tanto, tenemos una **serie estacionaria**.  \n",
    "\n",
    "**Prueba de Dickey-Fuller Aumentada**"
   ]
  },
  {
   "cell_type": "code",
   "execution_count": 6,
   "id": "2039a34f",
   "metadata": {},
   "outputs": [
    {
     "name": "stderr",
     "output_type": "stream",
     "text": [
      "Warning message in adf.test(Maiz_ts_diff, alternative = \"stationary\", k = 0):\n",
      "\"p-value smaller than printed p-value\""
     ]
    },
    {
     "data": {
      "text/plain": [
       "\n",
       "\tAugmented Dickey-Fuller Test\n",
       "\n",
       "data:  Maiz_ts_diff\n",
       "Dickey-Fuller = -11.657, Lag order = 0, p-value = 0.01\n",
       "alternative hypothesis: stationary\n"
      ]
     },
     "metadata": {},
     "output_type": "display_data"
    }
   ],
   "source": [
    "adf.test(Maiz_ts_diff, alternative = \"stationary\",k=0)"
   ]
  },
  {
   "cell_type": "markdown",
   "id": "7df42ea6",
   "metadata": {},
   "source": [
    "En la prueba de Dickey-Fuller Aumentada, con la primera diferencia tenemos que $p-valor<\\alpha $, ya que $0.01<0.05$, con esto tenemos que **Aceptamos $H_a$**. Por lo tanto, tenemos una **serie estacionaria.**\n",
    "\n",
    "Como ambas pruebas concluyen que la serie es estacionaria, entonces concluimos que la **serie es estacionaria con $1$ diferencia**.\n",
    "\n",
    "Este proceso de usar una secuencia de pruebas $KPSS$ para determinar el número apropiado de primeras diferencias se lleva a cabo usando **unitroot_ndiffs()**. <br>\n",
    "Una función similar para determinar si se requieren diferencias estacionales es **unitroot_nsdiffs()**"
   ]
  },
  {
   "cell_type": "code",
   "execution_count": 7,
   "id": "e3b4f5eb",
   "metadata": {},
   "outputs": [
    {
     "data": {
      "text/html": [
       "<strong>ndiffs:</strong> 1"
      ],
      "text/latex": [
       "\\textbf{ndiffs:} 1"
      ],
      "text/markdown": [
       "**ndiffs:** 1"
      ],
      "text/plain": [
       "ndiffs \n",
       "     1 "
      ]
     },
     "metadata": {},
     "output_type": "display_data"
    },
    {
     "data": {
      "text/html": [
       "<strong>nsdiffs:</strong> 0"
      ],
      "text/latex": [
       "\\textbf{nsdiffs:} 0"
      ],
      "text/markdown": [
       "**nsdiffs:** 0"
      ],
      "text/plain": [
       "nsdiffs \n",
       "      0 "
      ]
     },
     "metadata": {},
     "output_type": "display_data"
    }
   ],
   "source": [
    "unitroot_ndiffs(Maiz_ts) #Nos dice cuantas diferencias ordinarias necesitamos.\n",
    "unitroot_nsdiffs(Maiz_ts) #Nos dice cuantas diferencias estacionales necesitamos."
   ]
  },
  {
   "cell_type": "markdown",
   "id": "f2b316e6",
   "metadata": {},
   "source": [
    "No se sugieren diferencias estacionales si $F_s<0.64$, de lo contrario, se sugiere una diferencia estacional."
   ]
  },
  {
   "cell_type": "markdown",
   "id": "ff232604",
   "metadata": {},
   "source": [
    "Más precisamente, si {$ y_t $} es una serie de tiempo **estacionaria**, entonces para toda $s$, la distribución de $(y_t,\\ldots ,y_{t+s})$ no depende de $t$."
   ]
  },
  {
   "cell_type": "markdown",
   "id": "f50d0bc7",
   "metadata": {},
   "source": [
    "<h2> 9.3 Notación de retroceso </h2>\n",
    "\n",
    "El operador de desplazamiento hacía atrás $B$ es una notación útil cuando se trabaja con rezagos de series de tiempo: $$By_t=y_{t-1}$$  Algunas referencias usan $L$ por \"lag\" (retraso) en lugar de $B$ por \"backshift\" (retroceso). En otra palabras, $B$, operando en $y_t$, tiene el efecto de desplazar los datos un período hacía atrás.  \n",
    "\n",
    "Dos aplicaciones de $B$ a $y_t$ desplazan los datos dos períodos hacía atrás: $$ \\begin{array}{l} B(By_t)&=B^2y_t \\\\ B(By_t)&=y_{t-2} \\end{array}$$ \n",
    "Para datos mensuales, si deseamos considerar \"el mismo mes del año pasado\", la notación es $B^{12}y_t=y_{t-12}$ \n",
    "\n",
    "El operador de desplazamiento hacía atrás es conveniente para describir el proceso de **diferenciación**. Una primera diferencia se puede escribir como: $$\\begin{array}{l} y_t^{\\; \\prime }&=y_t-y_{t-1}\\\\ y_t^{\\; \\prime }&=y_t-By_t \\\\ y_t^{\\; \\prime }&=(1-B)y_t \\end{array} $$\n",
    "Así que una primera diferencia puede ser representada por $(1-B)$. De manera similar, si se tienen que calcular diferencias de segundo orden , entonces:\n",
    "$$\\begin{array}{l} y_t ^{\\; \\prime \\prime }&=y_t-2y_{t-1}+y_{t-2}\\\\ y_t ^{\\; \\prime \\prime }&=(1-2B+B^2)y_t \\\\ y_t ^{\\; \\prime \\prime }& =(1-B)^2y_t \\end{array} $$\n",
    "En general, una diferencia de orden $d$-ésimo se puede escribir como: $$(1-B)^dy_t$$\n",
    "\n",
    "La notación de retroceso es particularmente útil cuando se conbinan diferencias, ya que el operador puede tratarse utilizando reglas algebraicas ordinarias. En particular, los términos que involucran $B$ se pueden multiplicar entre sí. \n",
    "\n",
    "Por ejemplo, una diferencia estacional seguida de una primera diferencia se puede escribir como:\n",
    "$$\\begin{array}{l} (1-B)(1-B^m)y_t&=(1-B-B^m+B^{m+1})y_t  \\\\ (1-B)(1-B^m)y_t &= y_t-y_{t-1}-y_{t-m}+y_{t-m-1} \\end{array} $$"
   ]
  },
  {
   "cell_type": "markdown",
   "id": "81155d07",
   "metadata": {},
   "source": [
    "<h2> 9.4 Modelos autorregresivos </h2>\n",
    "\n",
    "En un modelo de autorregresión, pronosticamos la variable de interés usando una combinación lineal de *valores pasados de la variable*. El término *autorregresión* indica que se trata de una regresión de la variable contra sí misma. Por lo tanto, un modelo autorregresivo de orden $p$ se puede escribir como: $$y_t=c+\\Phi _1y_{t-1}+\\Phi y_{t-2}+\\cdots + \\Phi _py_{t-p}+\\varepsilon _t $$\n",
    "\n",
    "donde $\\varepsilon _t$ es ruido blanco. Esto es como una regresión múltiple pero con *valores rezagados* de $y_t$ como predictores. Nos referimos a esto como un modelo $AR(p)$, un modelo autorregresivo de orden $p$. Los modelos autorregresivos son notablemente flexibles en el manejo de una amplia gama de patrones de series de tiempo diferentes.\n",
    "\n",
    "Para un modelo $AR(1)$\n",
    "* Cuando $\\Phi _1=0$ y $c=0$, $y_t$ es equivalente a ruido blanco.\n",
    "* Cuando $\\Phi _1=1$ y $c=0$, $y_t$ es equivalente a un paseo aleatorio.\n",
    "* Cuando $\\Phi _1=1$ y $c\\neq 0$, $y_t$ es equivalente a un paseo aleatorio con deriva.\n",
    "* Cuando $\\Phi _1<0$, $y_t$ tiende a oscilar alrededor de la media.\n",
    "\n",
    "Normalmente retringimos los modelos autorregresivos a datos estacionarios, en cuyo caso se requieren aalgunas restricciones en ñps valores de los parámetros. \n",
    "* Para un modelo $AR(1)$: $-1<\\Phi _1<1$\n",
    "* Para un modelo $AR(2)$: $-1<\\Phi _2<1 $ ,  $ \\Phi _1+\\Phi _2<1 $ , $ \\Phi _2-\\Phi _1<1$\n",
    "\n",
    "Cuando $p\\geq 3$, las restricciones se vuelven mucho más complicadas."
   ]
  },
  {
   "cell_type": "markdown",
   "id": "4858799b",
   "metadata": {},
   "source": [
    "<h2> 9.5 Modelos de promedio Móvil </h2>\n",
    "\n",
    "En lugar de usar valores pasados de la variable de pronóstcio en una regresión, un modelo de promedio móvil usa errores de pronóstico pasados en un modelo similar a una regresión: $$y_t =c+\\theta _1\\varepsilon _{t-1}+\\theta _2\\varepsilon _{t-2}+\\cdots +\\theta _q\\varepsilon _{t-q}+\\varepsilon _t $$ Donde $\\varepsilon _t$ es ruido blanco. Nos referimos a esto como un $Ma(q)$ modelo, un modelo de media móvil de orden $q$. Por supuesto, no observamos los valores de $\\varepsilon _t$, por lo que no es realmente una regresión en el sentido habitual.\n",
    "\n",
    "Observe que cda valor de $y_T$ se puede considerar como un rpomedio móvil ponderado de los últimos errores de pronóstico (aunque los coeficientes normalmente no suman uno). Sin embargo, los modelos de promedio móvil no deben confundirse con el suavizado de promedio móvil. Un **modelo de promedio móvil** se usa para pronosticar valores futuros, mientras que el **suavizado de promedio móvil** se usa para estimar el ciclo de tendencia de valores pasados. \n",
    "\n",
    "Cambiar los parámetros $\\theta _1, \\theta _2 , \\ldots , \\theta _q$ da como resultado diferentes patrones de series de tiempo. Al igual que con los modelos autorregresivos, la varianza del término error $\\varepsilon _t$ solo cambiará la escala de la serie, no los patrones.\n",
    "\n",
    "Es posible escribir cualquier $AR(p)$ estacionario como modelo $MA(\\infty )$. Por ejemplo, usando sustitución repetida, podemos deostrar esto para un modelo $AR(1)$:\n",
    "$$\\begin{array}{l} y_t  =& \\Phi _1y_{t-1}+\\varepsilon _t   \\\\ y_t  =&\\Phi _1 (\\Phi _1 y_{t-2}+\\varepsilon _{t-1}) +\\varepsilon _t \\\\ y_t =& \\Phi ^2 y_{t-2}+\\Phi _1 \\varepsilon _{t-1}+\\varepsilon _t  \\\\ \n",
    "y_t =&\\Phi ^3y_{t-3}+\\Phi _1^2\\varepsilon _{t-2}+\\Phi _1 \\varepsilon _{t-1}+\\varepsilon _t  \\\\ etc& \\end{array}$$\n",
    "Previsto $-1<\\Phi _1 <1$. El valor de $\\Phi _1^k$ se hará más pequeñp a medida que $k$ se hace más grande. Entonces finalmente obtenemos: $$y_t=\\varepsilon _t+\\Phi _1\\varepsilon _{t-1}+\\Phi _1^2 \\varepsilon _{t-2}+\\Phi _1^3 \\varepsilon _{t-3}+\\cdots $$ Un $MA(\\infty )$ proceso.\n",
    "\n",
    "El resultado inverso se cumple si imponemos algunas restricciones a los parámetros de $MA$. Entonces el modelo $MA$ se llama **invertible**. Los modelos invertibles no se introducen simplemente para permitirnos convertir los modelos $MA$ a modelos $AR$. También tienen algunass propiedades matemáticas deseables. \n",
    "\n",
    "Por ejemplo, considere el proceso $MA(1)$, $y_t=\\varepsilon _t+\\theta _1\\varepsilon _{t-1}$. En la representación $AR(\\infty )$, el error más recinte se puede escribir como una función lineal de las observaciones actuales y pasadas.\n",
    "$$\\varepsilon _t = \\sum _{j=0}^{\\infty} (-\\theta _1)^j y_{t-j}$$\n",
    "* Cuando $|\\theta _1|>1$, los pesos aumentan a medida que aumentan los retrasos, por lo que cuanto más distantes son las observaciones, mayor es su influencia en el error actual. \n",
    "* Cuando $|\\theta _1|=1$, los pesos son de tamaño constante y las observaciones distantes tienen la misma influencia que lass observaciones recientes.\n",
    "* Como ninguna de estas situaciones tiene mucho sentido, requerimos $|\\theta _1|<1$, por lo que las observaciones más recientes tienen mayor peso que las observaciones del pasado más lejano. \n",
    "\n",
    "Por lo tanto, el proceso es invertible cuando $|\\theta _1|<1$ \n",
    "\n",
    "Las restricciones de invertibilidad para otros modelos son similares a las restricciones de estacionariedad.\n",
    "* Para un modelo $MA(1)$: $-1<\\theta _1<1$\n",
    "* Para un modelo $MA(2)$: $-1<\\theta _2<1 \\; $ , $\\; \\theta _2+\\theta _1>-1$, $\\; \\theta _1-\\theta _2<1$\n",
    "\n",
    "Condiciones más complicadas se mantienen para $q\\geq 3$."
   ]
  },
  {
   "cell_type": "markdown",
   "id": "c47a18b4",
   "metadata": {},
   "source": [
    "<h2> 9.6 Modelos ARIMA nos estacionales </h2>\n",
    "\n",
    "Si combinamos diferenciación con autorregresión y un modelo de media móvil, obtenemos un modelo $ARIMA$ no estacional. $ARIMA$ es un acrónimo de AutoRegressive Integrated Moving  Average (en este contexto, \"Integración\" es lo contrario de diferenciación). El modelo completo se puede escribir como : \n",
    "$$y_t^{\\; \\prime}=c+\\Phi _1y_{t-1}^{\\; \\prime}+\\cdots +\\Phi _p y_{t-p}^{\\; \\prime }+\\theta _1 \\varepsilon _{t-1}+\\cdots +\\theta _q\\varepsilon _{t-q}+\\varepsilon _t$$\n",
    "Donde $y_{t}^{\\; \\prime}$ es la serie diferenciada (puede haber sido diferenciada más de una vez). Los \"predictores\" del lado derecho incluyen vlores de retraso de $y_t$ y errores retrasados. A esto lo llamamos **modelo** $ARIMA(p,d,q)$, donde:\n",
    "* $p=$ orden de la parte autorregresiva.\n",
    "* $d=$ grado de la primera diferenciacón involucrado.\n",
    "* $q=$ orden de la parte de la media móvil.\n",
    "\n",
    "\n",
    "Las mismas condiciones de estacionariedad e invertibilidad que se utilizan para los modelos autorregresivos y de promedio móvil también se aplican a un modeo $ARIMA$. Mucho de los modelos que ya hemos discutido son casos especiales del modelo $ARIMA$, como los siguientes:\n",
    "\n",
    "**Ruido Blanco** $\\rightarrow $ $ARIMA(0,0,0)$ sin constante <br> \n",
    "**Caminata aleatoria** $\\rightarrow $ $ARIMA(0,1,0)$ sin constante <br>\n",
    "**Paseo aleatorio con deriva** $\\rightarrow $ $ARIMA(0,1,0)$ sin constante <br>\n",
    "**Autoregresión** $\\rightarrow $ $ARIMA(p,0,0)$ <br>\n",
    "**Media móvil** $\\rightarrow $ $ARIMA(0,0,q)$ <br>\n",
    "\n",
    "\n",
    "Una vez que comenzamos a combinar componentes de esta manera para formar modelos más complicados, es mucho más fácil trabajar con la notación de retroceso. Por ejemplo, la anterior ecuación se puede escribir en notación de retroceso como:\n",
    "$$(1-\\Phi _1B-\\cdots \\Phi _p B^p)(1-B)^dy_t=c+(1+\\theta _1B+\\cdots +\\theta _qB^q)$$\n",
    " Donde:\n",
    " * $(1-\\Phi _1B-\\cdots \\Phi _p B^p)$ es $AR(p)$\n",
    " * $(1-B)^d$ son $d$ diferencias.\n",
    " * $(1+\\theta _1B+\\cdots +\\theta _qB^q)$ son $MA(q)$\n",
    " \n",
    " Seleccionar valores apropiados para $p$, $q$ y  $q$ puede ser díficil. Sin embargo, la función del paquete *arima()* lo hará automáticamente. "
   ]
  },
  {
   "cell_type": "code",
   "execution_count": 8,
   "id": "6de3a8ce",
   "metadata": {},
   "outputs": [],
   "source": [
    "Arima_automatico <- auto.arima(Maiz_ts, lambda = \"auto\")\n",
    "Pronostico <- forecast(Arima_automatico, h=24)"
   ]
  },
  {
   "cell_type": "code",
   "execution_count": 9,
   "id": "32853b2e",
   "metadata": {},
   "outputs": [
    {
     "data": {
      "image/png": "[encoded data removed]",
      "text/plain": [
       "plot without title"
      ]
     },
     "metadata": {},
     "output_type": "display_data"
    }
   ],
   "source": [
    "autoplot(Pronostico)"
   ]
  },
  {
   "cell_type": "code",
   "execution_count": 17,
   "id": "895a12f1",
   "metadata": {},
   "outputs": [
    {
     "data": {
      "text/html": [
       "219999.092042153"
      ],
      "text/latex": [
       "219999.092042153"
      ],
      "text/markdown": [
       "219999.092042153"
      ],
      "text/plain": [
       "[1] 219999.1"
      ]
     },
     "metadata": {},
     "output_type": "display_data"
    },
    {
     "data": {
      "text/html": [
       "193091.690068246"
      ],
      "text/latex": [
       "193091.690068246"
      ],
      "text/markdown": [
       "193091.690068246"
      ],
      "text/plain": [
       "[1] 193091.7"
      ]
     },
     "metadata": {},
     "output_type": "display_data"
    },
    {
     "data": {
      "text/html": [
       "296828.688988319"
      ],
      "text/latex": [
       "296828.688988319"
      ],
      "text/markdown": [
       "296828.688988319"
      ],
      "text/plain": [
       "[1] 296828.7"
      ]
     },
     "metadata": {},
     "output_type": "display_data"
    }
   ],
   "source": [
    "sd(Maiz_ts)\n",
    "sd(Maiz_ts_diff)\n",
    "sd(Maiz_ts_diff_2)"
   ]
  },
  {
   "cell_type": "markdown",
   "id": "0a859957",
   "metadata": {},
   "source": [
    "**Como encontrar d**\n",
    "\n",
    "El orden correcto de diferenciación es la diferenciación mínima requerida para obtener una serie casi estacionaria que oscila alrededor de una media bien definida y la gráfica de la función de correlación llega a $0$ con bastante rápidez.\n",
    "\n",
    "Si las autocorrelaciones son positivas para muchos retrasos ($10$ o más), entonces la serie necesita una mayor diferenciación. Por otro lado, si la autocorrelación del retraso $1$, es decir, $\\varphi _{1}$ en si es demasiaado negativa, entonces la serie probablemente está sobrediferenciada.\n",
    "\n",
    "Si es el caso en que no puede realmente decidir entre dos órdenes de diferenciación, elija el orden de la menor desviación estándar  en la serie diferenciada."
   ]
  },
  {
   "cell_type": "code",
   "execution_count": 30,
   "id": "01baf5c5",
   "metadata": {},
   "outputs": [
    {
     "data": {
      "text/plain": [
       "\n",
       "Autocorrelations of series 'ts(Maiz_ts_diff)', by lag\n",
       "\n",
       "     0      1      2      3      4      5      6      7      8      9     10 \n",
       " 1.000 -0.187 -0.051 -0.006 -0.184 -0.101  0.116 -0.121 -0.095 -0.097  0.042 \n",
       "    11     12     13     14     15     16     17     18     19     20     21 \n",
       "-0.083  0.486  0.063 -0.051 -0.115 -0.026 -0.116  0.111 -0.098 -0.069 -0.093 \n",
       "    22     23     24     25     26     27     28     29     30     31     32 \n",
       "-0.010  0.019  0.315 -0.008  0.071 -0.087 -0.147  0.054  0.080 -0.120 -0.022 \n",
       "    33     34     35     36 \n",
       "-0.143 -0.003  0.072  0.249 "
      ]
     },
     "metadata": {},
     "output_type": "display_data"
    },
    {
     "data": {
      "image/png": "[encoded data removed]",
      "text/plain": [
       "Plot with title \"Auto-Correlación Simple del Maiz con 1 diferencia\""
      ]
     },
     "metadata": {},
     "output_type": "display_data"
    }
   ],
   "source": [
    "Maiz_ts_diff <- diff(Maiz_ts, differences =1) #Diferencia la serie original 1 vez\n",
    "(acf(ts(Maiz_ts_diff), lag.max=36, \n",
    "     main = \"Auto-Correlación Simple del Maiz con 1 diferencia\",\n",
    "xlab =\"k-períodos\"))"
   ]
  },
  {
   "cell_type": "markdown",
   "id": "6a6bb48a",
   "metadata": {},
   "source": [
    "En la gráfica de la serie con $1$ diferenciación vemos que existen ($10$ o más) autocorrelaciones positivas, entonces se sugiere que la serie necesita una mayor diferenciación."
   ]
  },
  {
   "cell_type": "code",
   "execution_count": 31,
   "id": "4f601104",
   "metadata": {},
   "outputs": [
    {
     "data": {
      "text/plain": [
       "\n",
       "Autocorrelations of series 'ts(Maiz_ts_diff_2)', by lag\n",
       "\n",
       "     0      1      2      3      4      5      6      7      8      9     10 \n",
       " 1.000 -0.549  0.037  0.103 -0.114 -0.072  0.212 -0.131  0.023 -0.051  0.100 \n",
       "    11     12     13     14     15     16     17     18     19     20     21 \n",
       "-0.281  0.405 -0.124 -0.021 -0.052  0.061 -0.150  0.198 -0.102  0.017 -0.023 \n",
       "    22     23     24     25     26     27     28     29     30     31     32 \n",
       " 0.006 -0.107  0.262 -0.179  0.097 -0.007 -0.150  0.079  0.100 -0.121  0.087 \n",
       "    33     34     35     36 \n",
       "-0.094  0.011 -0.040  0.173 "
      ]
     },
     "metadata": {},
     "output_type": "display_data"
    },
    {
     "data": {
      "image/png": "[encoded data removed]",
      "text/plain": [
       "Plot with title \"Auto-Correlación Simple del Maiz con 2 diferencias\""
      ]
     },
     "metadata": {},
     "output_type": "display_data"
    }
   ],
   "source": [
    "(acf(ts(Maiz_ts_diff_2), lag.max=36, \n",
    "     main = \"Auto-Correlación Simple del Maiz con 2 diferencias\",\n",
    "xlab =\"k-períodos\"))"
   ]
  },
  {
   "cell_type": "markdown",
   "id": "948bee56",
   "metadata": {},
   "source": [
    "En la gráfica de la serie con $2$ diferenciaciones vemos que ($\\varphi =-0.549$), lo cual es demasiado negativo, esto nos quiere dar a decir que la serie esta sobrediferenciada. Con lo anterior, escogeremos la serie diferenciada con menor desviación estándar."
   ]
  },
  {
   "cell_type": "code",
   "execution_count": 33,
   "id": "33750c02",
   "metadata": {},
   "outputs": [
    {
     "data": {
      "text/html": [
       "193091.690068246"
      ],
      "text/latex": [
       "193091.690068246"
      ],
      "text/markdown": [
       "193091.690068246"
      ],
      "text/plain": [
       "[1] 193091.7"
      ]
     },
     "metadata": {},
     "output_type": "display_data"
    },
    {
     "data": {
      "text/html": [
       "296828.688988319"
      ],
      "text/latex": [
       "296828.688988319"
      ],
      "text/markdown": [
       "296828.688988319"
      ],
      "text/plain": [
       "[1] 296828.7"
      ]
     },
     "metadata": {},
     "output_type": "display_data"
    }
   ],
   "source": [
    "sd(Maiz_ts_diff) #Desvación estándar de la serie con 1 diferencia ordinarias\n",
    "sd(Maiz_ts_diff_2) #Desviación estándar de la serie con 2 diferencias ordinarias"
   ]
  },
  {
   "cell_type": "markdown",
   "id": "2b364602",
   "metadata": {},
   "source": [
    "Observamos que la Desviación estándar menor es la de la serie con $1$ diferenciación, entonces tendremos que $d=1$.\n",
    "\n",
    "**SELECCIONAR EL ORDEN p DEL MODELO AR(p) EN FUNCIÓN DE LOS PICOS SIGNIFICATIVOS DEL GRÁFICO PACF.** \n",
    "\n",
    "OJO: Se debe tener la serie estacionaria."
   ]
  },
  {
   "cell_type": "code",
   "execution_count": 39,
   "id": "e314b7ce",
   "metadata": {},
   "outputs": [
    {
     "data": {
      "text/plain": [
       "\n",
       "Partial autocorrelations of series 'ts(Maiz_ts_diff)', by lag\n",
       "\n",
       "     1      2      3      4      5      6      7      8      9     10     11 \n",
       "-0.187 -0.089 -0.035 -0.206 -0.200  0.018 -0.149 -0.232 -0.313 -0.170 -0.344 \n",
       "    12     13     14     15     16     17     18     19     20     21     22 \n",
       " 0.241  0.161  0.076 -0.153  0.022 -0.006  0.063 -0.055 -0.021 -0.012 -0.093 \n",
       "    23     24     25     26     27     28     29     30     31     32     33 \n",
       "-0.027  0.064 -0.095  0.005  0.069 -0.142  0.040  0.047  0.020 -0.043 -0.087 \n",
       "    34     35     36 \n",
       "-0.021  0.047  0.081 "
      ]
     },
     "metadata": {},
     "output_type": "display_data"
    },
    {
     "data": {
      "image/png": "[encoded data removed]",
      "text/plain": [
       "Plot with title \"Auto-Correlación Parcial del Maiz con 1 diferencia\""
      ]
     },
     "metadata": {},
     "output_type": "display_data"
    }
   ],
   "source": [
    "(pacf(ts(Maiz_ts_diff), lag.max=36, \n",
    "     main = \"Auto-Correlación Parcial del Maiz con 1 diferencia\",\n",
    "xlab =\"k-períodos\"))"
   ]
  },
  {
   "cell_type": "markdown",
   "id": "bd51e2f8",
   "metadata": {},
   "source": [
    "**SELECCIONAR EL ORDEN q PARA EL MODELO MA(q) DE ACF.**\n",
    "\n",
    "OJO: La serie ya debe ser estacionaria."
   ]
  },
  {
   "cell_type": "code",
   "execution_count": 40,
   "id": "bce8dee5",
   "metadata": {},
   "outputs": [
    {
     "data": {
      "text/plain": [
       "\n",
       "Autocorrelations of series 'ts(Maiz_ts_diff)', by lag\n",
       "\n",
       "     0      1      2      3      4      5      6      7      8      9     10 \n",
       " 1.000 -0.187 -0.051 -0.006 -0.184 -0.101  0.116 -0.121 -0.095 -0.097  0.042 \n",
       "    11     12     13     14     15     16     17     18     19     20     21 \n",
       "-0.083  0.486  0.063 -0.051 -0.115 -0.026 -0.116  0.111 -0.098 -0.069 -0.093 \n",
       "    22     23     24     25     26     27     28     29     30     31     32 \n",
       "-0.010  0.019  0.315 -0.008  0.071 -0.087 -0.147  0.054  0.080 -0.120 -0.022 \n",
       "    33     34     35     36 \n",
       "-0.143 -0.003  0.072  0.249 "
      ]
     },
     "metadata": {},
     "output_type": "display_data"
    },
    {
     "data": {
      "image/png": "[encoded data removed]",
      "text/plain": [
       "Plot with title \"Auto-Correlación Simple del Maiz con 1 diferencia\""
      ]
     },
     "metadata": {},
     "output_type": "display_data"
    }
   ],
   "source": [
    "(acf(ts(Maiz_ts_diff), lag.max=36, \n",
    "     main = \"Auto-Correlación Simple del Maiz con 1 diferencia\",\n",
    "xlab =\"k-períodos\"))"
   ]
  }
 ],
 "metadata": {
  "kernelspec": {
   "display_name": "R 4.1.3",
   "language": "R",
   "name": "ir35"
  },
  "language_info": {
   "codemirror_mode": "r",
   "file_extension": ".r",
   "mimetype": "text/x-r-source",
   "name": "R",
   "pygments_lexer": "r",
   "version": "3.6.1"
  }
 },
 "nbformat": 4,
 "nbformat_minor": 5
}
