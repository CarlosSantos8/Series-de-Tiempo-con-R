{
 "cells": [
  {
   "cell_type": "markdown",
   "id": "1b95843c",
   "metadata": {},
   "source": [
    "<h1> 1. Introducción </h1>"
   ]
  },
  {
   "cell_type": "markdown",
   "id": "37104226",
   "metadata": {},
   "source": [
    "Las distintas fortunas de los pronosticadores surgen porque los buenos pronósticos pueden parecer casi mágicos, mientras que los malos pronósticos pueden ser peligrosos. <br> **¿Qué se puede pronósticar?** <br> La predicción es necesaria en muchas situaciones: \n",
    "- Programar personal en un centro de llmadas la próxima semana requiere pronósticos de volúmenes de llamadas.\n",
    "- Almacenar un invetario requiere pronósticos de los requisitos de existencias.\n",
    "- Decidir si construir otra planta de generación de energía en los próximos $5$ años requiere previsiones de la demanda futura."
   ]
  },
  {
   "cell_type": "markdown",
   "id": "1429d193",
   "metadata": {},
   "source": [
    "Los pronósicos pueden requeririse con varios años de anticipación (para el caso de inversiones a capital) o solo con unos pocos minutos de anticipación (para enrutamiento de telecomunicaciones), cualquiera que sea, la predicción es una ayuda importante para una planificación eficaz y eficiente. Algunas cosas son más fáciles de pronosticar que otras, depende de varios factores, entre ellos:\n",
    "1. ¿Qué tan bien entendemos los factores que contribuyen a ello?.\n",
    "2. ¿Cuántos datos hay disponibles?.\n",
    "3. ¿Cuán similar es el futuro al pasado?.\n",
    "4. Si los pronósticos pueden afectar lo que estamops tratando de pronosticar.\n",
    "\n",
    "A menudo, en los pronósticos, un paso clave es saber cuando se puede pronosticar algo con precisión y cuando los pronósticos no serán mejores que lanzar una moneda. Los buenos pronósticos capturan los patrones y relaciones genuinos que existen en los datos históricos, pero no replican eventos pasados que no volverán a ocurrir. <br> Mucha gente asume erróneamente que los pronósticos no son posibles en un entorno cambiante. Cada entorno está cambiando, y un buen modelo de pronóstico captura la forma en que están cambiando las cosas. Los pronósticos rara vez asumen que el entorno no cambia. Lo que normalmente se supone es que *la forma en que el etorno está cambiando continuará en el futuro*. Es decir:\n",
    "- Un entorno altamente vólatil seguirá siendo altamente vólatil. \n",
    "- Un negocio con ventas fluctuantes seguira teniendo ventas fluctuantes."
   ]
  },
  {
   "cell_type": "markdown",
   "id": "331d9cac",
   "metadata": {},
   "source": [
    "Un modelo de pronóstico pretende capturar la forma en que se mueven las cosas, no solo donde están las cosas. Como dijo **Abraham Linconln:** \"*Si primero pudiéramos saber donde estamos y hacía donde nos dirigimos, podríamos juzgar menor que hacer y como hacerlo*\". <br> <br> Las situaciones de pronóstico varían ampliamnente en sus horizontes de tiempo, factores que determinan los resultados reales, tipos de patrones de datos y muchos otros aspectos. Los métodos de pronóstico ppueden ser simples, como utilizar la observación más reciente como pronóstico (lo que se denomina **método ingenuo**), o muy complejos, como las *redes neuronales* y los *sistemas econométricos de ecuaciones simultáneas*. <br>  \n",
    "La elección del método depende de los datos disponibles y de la previsibilidad de la cantidad a pronósticar. A veces, no habrá datos disponibles e absoluto. Por ejemplo, es posible que deseemos pronosticar las ventas de un nuevo producto en su primer año, pero obviamente no hay datos con los que trabajar. En situaciones como esta, usamos **pronósticos de juicio**. "
   ]
  },
  {
   "cell_type": "markdown",
   "id": "875ac329",
   "metadata": {},
   "source": [
    "<h2> 1.1 Previsión, objetivos y planificación. </h2>  <br> La previsión es una tarea estadística común en los negocios, donde ayuda a informar las decisiones sobre la programación de la producción, el transporten y el personal, y proporciona una guía para la planificación estratégica a largo plazo. Sin embargo, la previsión empresarial a menudo realiza de forma deficiente y se confunde con frecuencia con la planificación y los objetivos. Son tres cosas diferentes:\n",
    "\n",
    "- **Pronóstico**: Se trata de predecir el futuro con la mayor precisión posible, dada toda la información disponible, incluidos los datos históricos y el conocimiento de cualquier evento futuro que pueda afectar los pronósticos. \n",
    "- **Metas:** Son lo que te gustarpia que sucedira. Las metas deben estar vinculadas a pronósticos y planes, pero esto no siempre ocurre. Con demasiada frecuencia, las metas establecen sin ningún plan sobre como lograrlas y sin pronósticos sobre si serán realistas. \n",
    "- **Planificación:** Es una respuesta a las previsiones y objetivos. La planificación implica determinar las acciones apropiadas que se requieren para que sus pronósticos coincidan con sus objetivos.\n",
    "\n",
    "La previsión debe de ser una parte integral de las actividades de toma de decisiones de la gestión, ya que puede desempeñar un papel importante en muchas áreas de una empresa. Las organizaciones modernas requieren pronósticos a corto, media y largo plazo, según la aplicación específica. \n",
    "\n",
    "- **Previsiones a corto plazo:** Son necesarios para la programaciíon de personal, producción y transporte. Como parte del proceso también se requieren pronósticos de demanda. \n",
    "- **Previsiones a medip plazo:** Son necesarios para determinar los requisitos futuros de recursos, para comprar materias primas, contratar personal o compar maquinar y equipo. \n",
    "- **Previones a largo plazo:** Se utilizan en la planificación estratégica. Tales decisiones deben tener en cuenta las oportunidades de mercado, los factores ambientales y los recursos internos.\n",
    "\n",
    "Una organización necesita desarrollar un sistema de pronóstico que involucre varios enfoques para predecir eventos inciertos. Dichos sistemas de pronóstico requieren de: \n",
    "- Desarrollo de experiencia en la identificación de problemas de pronóstico.\n",
    "- Aplicación de una variedad de métodos de pronósticos. \n",
    "- Selección de métodos apropiados para cada problema y evaluación y perfeccionamiento de los métodos de pronóstico a lo largo del tiempo.\n",
    "\n",
    "\n",
    "\n",
    "También es importante contar con un fuerte apoyo organizacional para el uso de métodos formales de pronóstico si se van a utilizar con éxito."
   ]
  },
  {
   "cell_type": "markdown",
   "id": "a603c9ee",
   "metadata": {},
   "source": [
    "<h2> 1.2 Determinar que pronosticar </h2> <br> En las primeras etapas de un proyecto de pronóstico, se deben tomar decsiones sobre lo que se debe poronosticar. También es necesario considerar el horizonte prónostico. <br>\n",
    "\n",
    "**¿ Se requerirán pronósticos con un mes de anticipación, con $6$ meses o con $10$ años?** Será necesarios diferentes tipos de modelos, dependiendo de que horizonte de pronóstico sea más importante. <br> \n",
    "**¿Con qué frecuencia se requieren pronósticos?** Los pornósticos que deben producirse con frecuencia se realizan mejor con un sistema automatizado que con métodos que requieren un trabjo manual cuidadoso. <br> <br>\n",
    "Una ve que se ha determinado que pronósticos se requieren, entonces es necesario encontrar o recopilar los datos en los que se basarán los pronósticos. es posible que ya existan los datos necesarios para la previsión. En estos días, se registra una gran cantidad de datos, y la tarea del pronosticador suele ser identificar dónde y como se almacenan los datos requeridos. Los datos pueden incluir registros de ventas de una empresa, la demanda histórica de un producto o la tasa de desempleo de una región geográfica. Una gran parte del tiempo de un pronosticador puede dedicarse a ubicar y cotejar los datos disponibles antes de desarrollar métodos de pronóstico adecuados."
   ]
  },
  {
   "cell_type": "markdown",
   "id": "e72fbe0c",
   "metadata": {},
   "source": [
    "<h2> 1.3 Datos y métodos de pronóstico </h2> <br>\n",
    "Los métodos de pronóstico apropiados dependen en gran medida de los datos disponibles. \n",
    "\n",
    "<br> Si no hay datos disponibles, o si los datos disponibles no son relevantes para los pronósticos, se deben usar métodos de **pronósticos cualitativos** . Estos métodos no son puramente conjeturas; existen enfoques estructurados bien desarrollados para obtener buenos pronósticos sin utilizar datos historicos. <br> **LA previsión cuantitativa** se puede aplicar cuando se cumplen dos condiciones:\n",
    "1. Se dispone de información numérica sobre el pasado.\n",
    "2. Es razonable suponer que algunos aspectos de los patrones pasados continuarán en el futuro.\n",
    "\n",
    "Existe una amplia gama de métodos de pronóstico cuantitativo, a menudo desarrolados dentro de disciplinas específicas para propósitos específicos. Cada método tiene sus propias propiedades, precisiones y costos que deben tenerse en cuenta al elegir un método específico. <br> La mayoría de los problemas de predicción cuantitativa utilizan **datos de series temporales** (recopilados a intervalos regulares a lo largo del tiempo o **datos transverales** (recopilados en un solo punto en el tiempo). <br> **Pronóstico de series de tiempo** <br> Los ejemplos de datos de series de tiempo incluyen: \n",
    "- Resultados trimestrales de ventas de Amazon.\n",
    "- Precios diarios de las acciones de IBM.\n",
    "- Datos de transacciones de acciones con marca de tiempo.\n",
    "\n",
    "Todo lo que se observa secuencialemnte a lo largo del tiempo es una serie temporal. Existen *series de tiempo irregularmente espaciadas* y *series de tiempo regularmente espaciadas* (por ejemplo, cada hora, día, semana, mes, trimestre, año). Al pronosticar datos de series temporales, el objetivo es estimar como continuara la secuencia de observaciones en el futuro. <br> Los métodos de pronóstico de series de tiempo más simple utilizan solo información sobre la variable a pronosticar y no intentan descubrir los factores que afectan su comportamiento. Por lo tanto, extrapolarán tendencias y patrones estaacionales, pero ignorarán toda otra información, como *iniciativas de marketing*, *actividad de la competencia*, *cambios en las condiciones económicas* etc. Los métodos de descomposición son útiles para estudiar la tendencia y los patrones estacionales de una serie temporal. Los modelos de series de tiempo populares que se utilizan para la previsión incluyen modelos de suavizado exponencial y modelos ARIMA. <br> <br> \n",
    "Un modelo explicativo es útil porque incorpora información sobre otras variables, en lugar de solo valores históricos de la variable a pronosticar. Sin embargo, hay varias razones por las que un pronosticador podría seleccionar un modelo de serie de tiempo en lugar de un modelo explicativo o mixto, las razones son la siguiente:\n",
    "1. Es posible que no se entienda el sistema, e incluso si se entendiera, puede ser extremadamente difícil medir las relaciones que se supone gobiernan su comportamiento. \n",
    "2. Es necesario conocer o pronostocar los valores futuros de los diversos predictores para poder pronosticar la variable de interés, y esto puede resultar demasiado difícil.\n",
    "3. La principal preocupación puede ser solo predecir lo que sucederá, no saber por qué sucede.\n",
    "\n",
    "El modelo de series de tiempo puede dar pronósticos más precisos que un modelo explicativo o mixto. ]El modelo a utilizar en la previsión depende de los recursos y datos disponibles, la precisión de los modelos de la competencia y la forma en que e va a utilizar el modelo de previsión."
   ]
  },
  {
   "cell_type": "markdown",
   "id": "3a5773ff",
   "metadata": {},
   "source": [
    "<h2> 1.4 Los pasos básicos en una tarea de pronóstico. </h2> <br> Una tarea de pronóstico generalmente involucra cinco pasos básicos.\n",
    "\n",
    "1. **Definición del problema:** A menudo, esta es la parte más difícil de la predicción. Definir el problema con cuidado requiere una comprensión de la form en que se utilizarán los pronósticos, quien requiere los pornósticos y como encaja la función de pronóstico dentro de la organización que requiere los pronósticos. Un pronosticador necesita dedicar tiempo a hablar con todos los que participarám en la recopilación de datos, el mantenimiento de las bases de datos y el uso de los pornósticos para la planificación futura.\n",
    "2. **Recopilación de información:** Siempre se requieren al menos dos tipos de información: \n",
    "<br> a. Datos estadísticos. <br> b. La experiencia acumulada de las personas que recopilan los datos y utilizan los pronósticos.\n",
    "<br> <br> A menudo, será difícil obtener suficientes datos históricos para poder ajustar un buen modelo estadístico. En este caso, se pueden utilizar los *métodos de pronóstico por juicio* . Ocasionalmente, los datos antiguos serán menos útiles debido a cambios estructurales en el sistema que se pronostica; entonces podemos optar por usar solo los datos más recientes. Sin embargo, recuerde que los buenos modelo estadísticos manejará, los cambios evolutivos en el sistema; no deseche buenos datos innecesariamente.\n",
    "3. **Análisis preliminar (exploratorio):** Siempre comience graficando los datos.\n",
    "- ¿Hay patrones consistentes?.\n",
    "- ¿Hay una tendencia significativa?.\n",
    "- ¿Es importante la estacionalidad?.\n",
    "- ¿Existe evidencia de la presencia de ciclos económicos?.\n",
    "- ¿Existen valores atípicos en los datos que deban ser explicados por personas con conociminetos expertos?.\n",
    "- ¿Qué tan fuertes son las relaciones entre las variables disponibles para el análisis?\n",
    "\n",
    "Se han desarrollado varias herramientas para ayudar con este análisis. <br>\n",
    "4. **Elección y ajuste de modelos:** El mejor modelo a utilizar depende de la disponibilidad de datos históricos, la solidez de las realciones entre la variable de pronóstico y cualquier variable explicativa, y la forma en que se utilizarán los pronósticos. Es compun comparar dos o tres modelos potenciales. Cada modelo es en si mismo una cosntrucción artificial que se basa en un conjunto de supuestos (explícitos e implícitos) y generalmente involucra uno o más parámetros que deben estimarse utilizando los datos históricos conocidos: \n",
    "- Modelos de regresión.\n",
    "- Métodos de suavizado exponencial.\n",
    "- Modelos ARIMA de Box-jenkins.\n",
    "- Modelos de regresión dinámica.\n",
    "- Pronóstico Jerarquico.\n",
    "- Redes neuronales.\n",
    "- Autoregresión vectorial. \n",
    "\n",
    "5. **Uso y evaluación de un modelo de pronóstico:** Una vez que se ha selecciondo un modelo y se han estimado sus parámetros, el modelo se usa para hacer pronósticos. El desempeño del modelo solo puede evaluarse adecuadamente después de que los datos para el período de pronóstico estén disponibles.  Se han desarrollado varios métodos para ayudar a evaluar la precisión de los pronósticos. Tambipen hay cuestiones organizativas en el uso y la actuación sobre los pronósticos."
   ]
  },
  {
   "cell_type": "markdown",
   "id": "473a1066",
   "metadata": {},
   "source": [
    "<h2> 1.5 La perspectiva de la previsión estadística </h2> <br>\n",
    "\n",
    "Lo que estamos tratando de pronosticar es desconocido (o no lo estaríamos pronosticando), por lo que podemos pensar en ello con una **variable aleatoria**. En la mayoría de las situaciones de pronóstico, la variación asociada con lo que estamos pronosticando se reducirá a medida que se acerque el evento. En otras palabras, cuanto más adelante pronosticamos, más inciertos estamos. Podemos imaginar muchos futuros posibles, cada uno de los cuales arroja un valor diferenye para lo que deseamos pronosticar. <br> Cuando obtenemos un pronóstico, estamos estimando la *mitad* del rango de posibles valores que podría tomar la *variable aleatoria*. A menudo, un pronóstico va acompañado de un **intervalo de predicción** que da un *rango* de valores que la *variable aleatoria*  podría tomar con una probabilidad relativamente alta. Por ejemplo, un intervalo de predicción del 95% contiene un rango de valores que debe incluir el valor futuro real con una probabilidad del 95%. <br> <br> \n",
    "\n",
    "Usaremos el subíndice para el tiempo. Por ejemplo, $y_t$ denotará la observación en el tiempo $t$ Supongamos que denotamos toda la infomación que hemos observado como $I$ y queremos pronostica $y_t$. Luego escribimso $y_t|I$ que significa \"La variable aleatoria $y_t$ dado lo que sabemos en $I$\".  El conjunto de valores que podríaa tomar esta variable aleaotoria, junto con sus *probabilidades relativas*, se conoce como la **distribución de probabilidad** de $y_t|I$. En el pronóstico llamamos a esto **distribución del pronóstico**. <br> Cuando nosotros hablamos del \"pronóstico\" generalmente nos referimos al valor promedio de lla distribución del pronóstico, y ponemos un \"sombrero\" sobre $y$ para mostrar esto. Por lo tanto, escribimos el pronóstico de $y_t$ como $\\hat{y_t}$, es decir, el promedio de los posibles valores de $y_t$ dado todo lo que sabemos. <br> a menudo es útil especificar exactamente que información hemos utilizado para calcular el pronóstico. Entonces escribiremos, por ejemplo, $\\hat{y}_{t|t-1}$ para significar el pronóstico de $y_t$ teniendo en cuanta todas las observaciones anteriores $(y_1, \\ldots ,y_{t-1})$. De manera similar, $\\hat{y}_{T+h|T}$ significa el pronóstico de $y_{T+h}$ teniendo en cuenta $y_1,\\ldots ,y_{T+h}$ (es decir, un h-step pronóstico escalonado teniendo en cuenta tdas las observaciones hasta el tiempo $T$)."
   ]
  }
 ],
 "metadata": {
  "kernelspec": {
   "display_name": "R",
   "language": "R",
   "name": "ir"
  },
  "language_info": {
   "codemirror_mode": "r",
   "file_extension": ".r",
   "mimetype": "text/x-r-source",
   "name": "R",
   "pygments_lexer": "r",
   "version": "3.6.1"
  }
 },
 "nbformat": 4,
 "nbformat_minor": 5
}
