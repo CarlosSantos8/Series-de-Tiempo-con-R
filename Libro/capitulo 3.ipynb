{
 "cells": [
  {
   "cell_type": "markdown",
   "id": "3d13082a",
   "metadata": {},
   "source": [
    "<h1> 3. Descomposición de series temporales </h1>\n"
   ]
  },
  {
   "cell_type": "code",
   "execution_count": 151,
   "id": "cbe9d46e",
   "metadata": {},
   "outputs": [],
   "source": [
    "library(fpp3)\n",
    "library(readr)\n",
    "library(tseries)\n",
    "library(dplyr)\n",
    "library(ggplot2)\n",
    "library(zoo)\n",
    "library(quantmod)\n",
    "library(forecast)\n",
    "library(slider)\n",
    "library(tidyverse)\n",
    "library(TTR) #Para medias moviles"
   ]
  },
  {
   "cell_type": "markdown",
   "id": "d07303fe",
   "metadata": {},
   "source": [
    "Los datos de series temporales pueden exhibir una variedad de patrones y, a menudo, es útil dividir una serie temporal en varios componentes, cada uno de los cuales representa una categoria de patrón subyacente. Cuando descomponemos una serie de tiempo en componentes, generalmente combinamos la tendencia y ciclo en un solo componente **de tendencia-ciclo** (a menudo llamado simplemente **tendencia** por simplicidad). Por lo tanto, podemos pensar en una serie de tiempo como compuesta por $3$ componentes:\n",
    "1. Componente de ciclo tendencia.\n",
    "2. Componente estacional.\n",
    "3. Componente de resto (que contiene cualquier otra cosa en la serie de tiempo).\n",
    "\n",
    "Para algunas series de tiempo (por ejemplo, aquellas que se observan al menos diariamente), puede haber más de un componente estacional, correspondiente a los diferentes períodos estacionales. En este capítulo, consideramos los métodos más comunes para extraer estos componentes de una serie de tiempo. A menudo, esto se hace para ayudar a mejorar la comprensión de la serie temporal, pero también se puede utilizar para mejorar la precisión del pronóstico.\n",
    "\n",
    "Al descomponer una serie de tiempo, a veces es útil transformar o ajustar primero la serie para que la descomposición (y el análisis posterior) sea lo más simple posible. Entonces, comenzaremos discutiendo las transformaciones y los ajustes.\n",
    "\n",
    "<h2> 3.1 Transformaciones y ajustes </h2> \n",
    "\n",
    "El ajuste de los datos históricos a menudo puede conducir a una serie temporal más simple. Aquí nos ocupamos de cuatro tipos de ajustes.\n",
    "1. Ajustes de calendario.\n",
    "2. Ajustes de población.\n",
    "3. Ajustes de inflación.\n",
    "4. Transformaciones matemásticas.\n",
    "\n",
    "El propósito de estos ajustes y transformaciones es simplificar los patrones en los datos históricos eliminando o haciendo que el patrón se más consistente en todo el conjunto de datos. Los patrones más simples suelen ser más fáciles de modelar y conducnen a pronósticos más precisos.\n",
    "\n",
    "<h3> 3.1.1 Ajustes de calendario </h3>\n",
    "\n",
    "Parte de la variación observada en los datos estacionales puede deberse a simples efectos de calendario. En tales casos, suele ser mucho más fácil eliminar la variación antes de realizar más análisis. Por ejemplo, si está estudiando las ventas mensuales totales en una tienda minorista habrá una variación entre los meses simplemente debido a la diferente cantidad de días comerciales en cada mes, además de la variación estacional a lo largo del año. Es fácil eliminar esta variación calculando las ventas promedio por día de negociación en cada mes, en lugar de las ventas totales en el mes. Luego eliminamos efectivamente la variación del calendario.\n",
    "\n",
    "\n",
    "<h3>  3.1.2 Ajustes de población </h3>\n",
    "\n",
    "Cualquier dato que se vea afectado por cambios en la población se puede ajustar para dar datos per cápita. Es decir, considere los datos por persona (o por mil personas, o por millón de personas) en lugar de total. Por ejemplo, si está estudiando la cantidad de camas en un hospital en una región en particular a lo largo del tiempo, los resultados son mucho más fáciles de interpretar si elimina los efectos de los cambios de población considerando la cantidad de camas por cada mil personas. Luego puede ver si ha habido aumentos reales en el número de camas o si los aumentos se deben completamente al aumento de la población. Es posible que aumente el número total de camas, pero que disminuya el número de camas por cada mil personas. Esto ocurre cuando la población aumenta más rápido que el número de camas de hospital. Para la mayorpia de los datos que se ven afectados por los cambios de población.\n",
    "\n",
    "<h3> 3.1.3 Ajustes por inflación </h3>\n",
    "\n",
    "Los datos que se ven afectados por el balor del dinero se ajustan mejor antes del modelado. Por ejemplo, el costo promedio de una casa nueva habrá aumentado en las últimas décadas debido a la inflación. Una casa de $200,000.00$ este año no es lo mismo que una casa de $200,000.00$ hace $20$ años. Por esta razón, las series de tiempo financieras generalmente se ajustan ara que todos los valores se expresen en dólres de un año en particular. Por ejemplo, los datos del precio de la vivienda pueden expresarse en dólares del año $2000$.\n",
    "\n",
    "Para realizar estos ajustes se utiliza un índice de precios. Si $z_t$ denota el índice de precios y $y_t$ denota el precio original de la vivienda en el año $t$, entonces $x_t=\\frac{y_t}{z_t\\cdot z_{2000}}$ da el precio ajustado de la vivienda a valores en dólares del año $2000$. Los índices de precios son construidos por agencias gubernamentales.  Para los bienes de consumo, un índice de precios común es el Índice de Precios al Consumidor (**IPC**). Esto nos permite comparar el crecimiento o declive de las industrias en relación con un valor de precio común.\n",
    "\n",
    "<h3> 3.1.4 Transformaciones matemáticas </h3>\n",
    "\n",
    "Si los datos muestran una variación que aumenta o disminuye con el nivel de la serie, entonces una transformación puede ser útil. Por ejemplo, una transformación logarítmica suele ser útil. Si denotamos las observaciones originales como $y_1,\\ldots ,y_T $ y las observaciones transformadas como $w_1, \\ldots ,w_T$, entonces $w_t=log(y_t)$. Los logaritmos son útiles porque son interpretables: los cambios en un valor logarítmico son cambios relativoss (o porcentuales) en la escala original. Entonces, si se usa la base logarítmica $10$, entonces un aumento de $1$ en la escala logarítmica corresponde a una multiplicación de $10$ en la escala original.  Si algún valor de la serie original es cero o negativo, los logaritmos no son posibles.\n",
    "\n",
    "Aveces también se utilizan otras transformaciones (aunque no son tan interpretables). Por ejemplo, se pueden usar raíces cuadradas y raíces cúbicas. Estas se llaman **transformaciones de potencia** porque se pueden escribir en la forma $w_t=y_t^p$\n",
    "\n",
    " Una familia útil de transformaciones, que incluye tanto logartimos como transofrmaciones de porytencia, es la familia de **transformaciones de Box-Cox**, que dependen del parámetro $\\lambda $ y se definen como sigue:\n",
    "$$w_t =\\left\\{ \\begin{array}{ll} log(y_t) & Si\\; \\lambda =0 \\\\ \\frac{sign(y_t)|y_t|^\\lambda -1}{\\lambda } & e.o.c \\end{array} \\right. $$\n",
    "Esta es en realidad una transofmación de Box-Cox modificada, que permite valores negativos de $y_t$ siempre que $\\lambda >0$\n",
    "El logaritmo en una transformación de Box-Cox es siempre un logaritmo natural (es decir, en base $e$). Entonces, si $\\lambda =0$, se usan logaritmos naturales, pero si $\\lambda \\neq 0$, se usa una transformación de potencia, seguida de una escala simple. \n",
    "\n",
    "Si $\\lambda  =1$, entonces $w_t =y_t-1$, por lo que los datos transformados se desplazan hacia abajo pero no hay cambios en laa forma de la serie temporal. Para todos los demás valores de $\\lambda $, la serie temporal cambiará de forma.\n",
    "\n",
    "\n",
    "\n"
   ]
  },
  {
   "cell_type": "code",
   "execution_count": 215,
   "id": "4f77566e",
   "metadata": {},
   "outputs": [],
   "source": [
    "setwd(\"C:\\\\Users\\\\81799\\\\OneDrive\\\\Documentos\\\\ESFM_CLASES\\\\Servicio Social ARTF\\\\Machine Learning\\\\section1\\\\ARTF_2017_2020\\\\ABRIL_ARTF\")\n",
    "Ton_Netas_P <- read.csv(\"Toneladas_Netas__Productos_2014_2022.csv\")\n",
    "Ton_Netas_P <- Ton_Netas_P[-99,]\n",
    "Ton_Netas_P$X <- as.yearmon(as.factor(Ton_Netas_P$X), format =\"%m/%Y\")\n",
    "Ton_Netas_P <- xts(Ton_Netas_P[,c(2:6)], order.by = Ton_Netas_P$X )\n",
    "T_N_P <-  data.frame(Ton_Netas_P) #Ordeno por fechas y la trae como indice\n",
    "Maiz_ts <- ts(T_N_P[,1],  frequency = 12, star = c(2014,1))"
   ]
  },
  {
   "cell_type": "markdown",
   "id": "00bbc1e9",
   "metadata": {},
   "source": [
    "<h3> 3.2.1 Descomposición por el método STL </h3>"
   ]
  },
  {
   "cell_type": "markdown",
   "id": "d63352d1",
   "metadata": {},
   "source": [
    "Utilizando el método de descomposición **STL**, tenemos lo siguiente:"
   ]
  },
  {
   "cell_type": "code",
   "execution_count": 108,
   "id": "0cc4aeb2",
   "metadata": {},
   "outputs": [
    {
     "data": {
      "text/plain": [
       " Call:\n",
       " stl(x = Maiz_ts, s.window = \"period\")\n",
       "\n",
       "Components\n",
       "           seasonal   trend    remainder\n",
       "Jan 2014 -145252.29 1074353  108632.7516\n",
       "Feb 2014 -275601.85 1068571   48966.9949\n",
       "Mar 2014 -108794.71 1062790   14872.4444\n",
       "Apr 2014  -51897.07 1058809   54982.6408\n",
       "May 2014  169027.51 1054829 -177494.8337\n",
       "Jun 2014  281856.69 1051824 -112790.4159\n",
       "Jul 2014  141604.32 1048819  -80952.8739\n",
       "Aug 2014  117667.92 1046863   39449.2067\n",
       "Sep 2014   39841.73 1044906   74709.6638\n",
       "Oct 2014 -156427.94 1057508    5412.5000\n",
       "Nov 2014   44609.85 1070110 -170750.8949\n",
       "Dec 2014  -56634.15 1097662  -25523.3835\n",
       "Jan 2015 -145252.29 1125215  -63638.2602\n",
       "Feb 2015 -275601.85 1149623  -70525.6703\n",
       "Mar 2015 -108794.71 1174030   -9688.5205\n",
       "Apr 2015  -51897.07 1192686   75699.2023\n",
       "May 2015  169027.51 1211342  100867.7575\n",
       "Jun 2015  281856.69 1228931  197659.5416\n",
       "Jul 2015  141604.32 1246520    6566.0209\n",
       "Aug 2015  117667.92 1261789   28200.7957\n",
       "Sep 2015   39841.73 1277058   -5213.3712\n",
       "Oct 2015 -156427.94 1285711  -95865.9471\n",
       "Nov 2015   44609.85 1294364 -213149.9253\n",
       "Dec 2015  -56634.15 1298267   22986.3522\n",
       "Jan 2016 -145252.29 1302171   -5153.3821\n",
       "Feb 2016 -275601.85 1308452  159373.4511\n",
       "Mar 2016 -108794.71 1314733   63171.6455\n",
       "Apr 2016  -51897.07 1318146   30713.6674\n",
       "May 2016  169027.51 1321559   31536.7306\n",
       "Jun 2016  281856.69 1314682  -17479.8848\n",
       "Jul 2016  141604.32 1307805    8893.3330\n",
       "Aug 2016  117667.92 1293273   56954.9313\n",
       "Sep 2016   39841.73 1278741   45058.1483\n",
       "Oct 2016 -156427.94 1268306  -46488.8988\n",
       "Nov 2016   44609.85 1257870  -29466.2896\n",
       "Dec 2016  -56634.15 1255531 -118665.4975\n",
       "Jan 2017 -145252.29 1253192  -13521.1302\n",
       "Feb 2017 -275601.85 1259916  -31549.3256\n",
       "Mar 2017 -108794.71 1266640  -80209.2773\n",
       "Apr 2017  -51897.07 1283044  -40366.6049\n",
       "May 2017  169027.51 1299449  -57838.7136\n",
       "Jun 2017  281856.69 1316419  179076.9432\n",
       "Jul 2017  141604.32 1333389  -77262.0801\n",
       "Aug 2017  117667.92 1340335  -73617.1380\n",
       "Sep 2017   39841.73 1347281  206742.9845\n",
       "Oct 2017 -156427.94 1349868  110004.3661\n",
       "Nov 2017   44609.85 1352454   65541.4388\n",
       "Dec 2017  -56634.15 1352522   11864.1425\n",
       "Jan 2018 -145252.29 1352589   -9936.1458\n",
       "Feb 2018 -275601.85 1352148 -136854.7871\n",
       "Mar 2018 -108794.71 1351707 -247766.4200\n",
       "Apr 2018  -51897.07 1358505   54397.8063\n",
       "May 2018  169027.51 1365302  110865.2262\n",
       "Jun 2018  281856.69 1382006 -105020.7478\n",
       "Jul 2018  141604.32 1398709   49681.3863\n",
       "Aug 2018  117667.92 1413597 -136364.7898\n",
       "Sep 2018   39841.73 1428484  -45568.8899\n",
       "Oct 2018 -156427.94 1430257  266504.3269\n",
       "Nov 2018   44609.85 1432029  150776.6775\n",
       "Dec 2018  -56634.15 1426428   42166.9349\n",
       "Jan 2019 -145252.29 1420827   22786.8651\n",
       "Feb 2019 -275601.85 1410535   78379.2508\n",
       "Mar 2019 -108794.71 1400244  -88529.3471\n",
       "Apr 2019  -51897.07 1382629 -100694.4567\n",
       "May 2019  169027.51 1365014  -80593.6075\n",
       "Jun 2019  281856.69 1350550 -111766.0656\n",
       "Jul 2019  141604.32 1336086  156512.7670\n",
       "Aug 2019  117667.92 1333400   47051.1750\n",
       "Sep 2019   39841.73 1330714  -19281.4738\n",
       "Oct 2019 -156427.94 1333594 -224922.0099\n",
       "Nov 2019   44609.85 1336473  157648.9067\n",
       "Dec 2019  -56634.15 1337057  -15464.7917\n",
       "Jan 2020 -145252.29 1337640 -105903.5747\n",
       "Feb 2020 -275601.85 1334020   72156.5101\n",
       "Mar 2020 -108794.71 1330400  143600.4120\n",
       "Apr 2020  -51897.07 1326815  -63883.1391\n",
       "May 2020  169027.51 1323231   75658.4510\n",
       "Jun 2020  281856.69 1319296  -71700.9890\n",
       "Jul 2020  141604.32 1315361   55011.8074\n",
       "Aug 2020  117667.92 1316397   -2754.5707\n",
       "Sep 2020   39841.73 1317432 -131654.9093\n",
       "Oct 2020 -156427.94 1323344  -86943.1467\n",
       "Nov 2020   44609.85 1329256  -21636.5083\n",
       "Dec 2020  -56634.15 1338573   17740.2507\n",
       "Jan 2021 -145252.29 1347890  -25104.6921\n",
       "Feb 2021 -275601.85 1358339  -38740.5000\n",
       "Mar 2021 -108794.71 1368787  207091.0810\n",
       "Apr 2021  -51897.07 1381954   -8320.8261\n",
       "May 2021  169027.51 1395121    -486.1172\n",
       "Jun 2021  281856.69 1406912   40183.4854\n",
       "Jul 2021  141604.32 1418702 -124642.0959\n",
       "Aug 2021  117667.92 1428049   29746.8130\n",
       "Sep 2021   39841.73 1437395 -141269.0738\n",
       "Oct 2021 -156427.94 1446306   53810.2866\n",
       "Nov 2021   44609.85 1455216   40535.8330\n",
       "Dec 2021  -56634.15 1464610   46127.4273\n",
       "Jan 2022 -145252.29 1474005   82215.3047\n",
       "Feb 2022 -275601.85 1483781  -89770.0786"
      ]
     },
     "metadata": {},
     "output_type": "display_data"
    }
   ],
   "source": [
    "stl(Maiz_ts, s.window=\"period\")"
   ]
  },
  {
   "cell_type": "markdown",
   "id": "2f1b2254",
   "metadata": {},
   "source": [
    "El resultado anterior muestra los componentes de una descomposición **STL**. La **trend** columna (que contiene la tendencia-ciclo $T_t$) sigue el movimiento general de la serie, ignorando cualquier estacionalidad y fluctuaciones aleatorias. Como se muestra en la siguiente gráfica"
   ]
  },
  {
   "cell_type": "code",
   "execution_count": 112,
   "id": "db7beeee",
   "metadata": {},
   "outputs": [
    {
     "data": {
      "image/png": "[encoded data removed]",
      "text/plain": [
       "plot without title"
      ]
     },
     "metadata": {},
     "output_type": "display_data"
    }
   ],
   "source": [
    "stl <- data.frame(stl(Maiz_ts, s.window=\"period\")$time.series) #Descomposición de la serie por el método STL\n",
    "autoplot(Maiz_ts, colour =\"red\")+\n",
    "geom_line(aes(y=stl$trend), colour = \"green\")+\n",
    "labs(y =\"Toneladas netas\", title = \"Toneladas netas del maiz\")"
   ]
  },
  {
   "cell_type": "markdown",
   "id": "d8ef63b9",
   "metadata": {},
   "source": [
    "Podemos graficar todos los componentes en una sola figura de la siguiente manera:"
   ]
  },
  {
   "cell_type": "code",
   "execution_count": 115,
   "id": "05296328",
   "metadata": {},
   "outputs": [
    {
     "data": {
      "image/png": "[encoded data removed]",
      "text/plain": [
       "plot without title"
      ]
     },
     "metadata": {},
     "output_type": "display_data"
    }
   ],
   "source": [
    "autoplot(stl(Maiz_ts, s.window=\"period\"))"
   ]
  },
  {
   "cell_type": "markdown",
   "id": "9e9ac290",
   "metadata": {},
   "source": [
    "Los $3$ componetes se muestran por separado en los tres paneles inferiores. Estos componentes se pueden sumar para reconstruir los datos que se muestran en el panel superior. Tengan en cuenta que el componente estacional cambia con el tiempo, por lo que dos años consecutivos tienen patrones similares, pero los años separaados pueden tener diferentes patrones estacionales. El componente restante que se muestra en el panel inferior es lo que queda cuando los componentes estacionales y de ciclo de tendencia se restaron de los datos.\n",
    "\n",
    "Las barras grises de la derecha de cada panel muestran las escalas relativas de los componentes. Cada barra gris representa la misma longitud  pero debido a que las gráficas están en diferentes escalas, las barras varían en tamaño. La barra gris grande en el panel inferior muestra que la variación en el componente restante es menor en comparación con la variación en los datos. Si redujéramos los tres paneles inferiores hasta que sus barras tuvieran el mismo tamaño que las del panel de datos, entonces todos los paneles estarían en la misma escala."
   ]
  },
  {
   "cell_type": "markdown",
   "id": "9ee789aa",
   "metadata": {},
   "source": [
    "<h3> 3.2.2 Descomposición por la función decompose() de R </h3>"
   ]
  },
  {
   "cell_type": "markdown",
   "id": "f2d70eab",
   "metadata": {},
   "source": [
    "Haciendo lo mismo que en el punto $3.2.1$ tendremos lo siguiente:"
   ]
  },
  {
   "cell_type": "code",
   "execution_count": 117,
   "id": "a49fb6a8",
   "metadata": {},
   "outputs": [
    {
     "data": {
      "text/plain": [
       "$x\n",
       "           Jan       Feb       Mar       Apr       May       Jun       Jul\n",
       "2014 1037733.6  841936.6  968867.5 1061894.8 1046361.4 1220890.4 1109470.9\n",
       "2015  916324.4  803495.1 1055547.1 1216488.3 1481237.2 1708447.4 1394690.7\n",
       "2016 1151765.0 1192223.4 1269109.9 1296962.5 1522123.0 1579058.8 1458302.9\n",
       "2017 1094419.1  952764.9 1077635.7 1190780.7 1410637.8 1777352.4 1397730.8\n",
       "2018 1197400.4  939691.1  995145.6 1361005.3 1645195.0 1558841.7 1589994.9\n",
       "2019 1298361.2 1213312.8 1202920.1 1230037.4 1453447.6 1520640.7 1634203.5\n",
       "2020 1086484.4 1130574.9 1365206.0 1211035.2 1567916.6 1529451.7 1511977.6\n",
       "2021 1177533.1 1043996.2 1467083.3 1321736.0 1563662.3 1728951.7 1435664.5\n",
       "2022 1410967.6 1118409.3                                                  \n",
       "           Aug       Sep       Oct       Nov       Dec\n",
       "2014 1203979.7 1159457.2  906492.2  943968.5 1015504.7\n",
       "2015 1407658.0 1311686.6 1033417.1 1125823.7 1264619.4\n",
       "2016 1467896.1 1363641.1 1065388.9 1273013.8 1080231.7\n",
       "2017 1384385.5 1593865.6 1303444.0 1462605.5 1307751.5\n",
       "2018 1394899.8 1422756.9 1540333.0 1627415.7 1411960.7\n",
       "2019 1498119.5 1351274.6  952244.0 1538732.2 1264958.0\n",
       "2020 1431310.0 1225618.7 1079972.6 1352228.9 1299678.9\n",
       "2021 1575463.4 1335967.8 1343687.9 1540361.6 1454103.5\n",
       "2022                                                  \n",
       "\n",
       "$seasonal\n",
       "            Jan        Feb        Mar        Apr        May        Jun\n",
       "2014 -175772.15 -272243.42 -110278.25  -57445.89  195855.23  298055.28\n",
       "2015 -175772.15 -272243.42 -110278.25  -57445.89  195855.23  298055.28\n",
       "2016 -175772.15 -272243.42 -110278.25  -57445.89  195855.23  298055.28\n",
       "2017 -175772.15 -272243.42 -110278.25  -57445.89  195855.23  298055.28\n",
       "2018 -175772.15 -272243.42 -110278.25  -57445.89  195855.23  298055.28\n",
       "2019 -175772.15 -272243.42 -110278.25  -57445.89  195855.23  298055.28\n",
       "2020 -175772.15 -272243.42 -110278.25  -57445.89  195855.23  298055.28\n",
       "2021 -175772.15 -272243.42 -110278.25  -57445.89  195855.23  298055.28\n",
       "2022 -175772.15 -272243.42                                            \n",
       "            Jul        Aug        Sep        Oct        Nov        Dec\n",
       "2014  142349.92  117925.57   59579.84 -165933.68   35511.41  -67603.86\n",
       "2015  142349.92  117925.57   59579.84 -165933.68   35511.41  -67603.86\n",
       "2016  142349.92  117925.57   59579.84 -165933.68   35511.41  -67603.86\n",
       "2017  142349.92  117925.57   59579.84 -165933.68   35511.41  -67603.86\n",
       "2018  142349.92  117925.57   59579.84 -165933.68   35511.41  -67603.86\n",
       "2019  142349.92  117925.57   59579.84 -165933.68   35511.41  -67603.86\n",
       "2020  142349.92  117925.57   59579.84 -165933.68   35511.41  -67603.86\n",
       "2021  142349.92  117925.57   59579.84 -165933.68   35511.41  -67603.86\n",
       "2022                                                                  \n",
       "\n",
       "$trend\n",
       "         Jan     Feb     Mar     Apr     May     Jun     Jul     Aug     Sep\n",
       "2014      NA      NA      NA      NA      NA      NA 1037988 1031327 1033337\n",
       "2015 1138585 1158956 1173785 1185417 1198283 1216240 1236430 1262437 1287532\n",
       "2016 1298412 1303572 1308247 1311744 1319209 1317659 1307587 1295220 1277265\n",
       "2017 1265148 1259145 1265258 1284770 1302588 1319968 1333739 1337485 1333503\n",
       "2018 1353600 1362049 1355357 1358098 1374835 1386045 1394593 1410201 1430259\n",
       "2019 1410682 1416825 1418147 1390665 1362466 1352646 1337693 1325417 1328732\n",
       "2020 1339091 1331214 1323195 1323281 1320832 1314508 1319748 1319935 1320572\n",
       "2021 1347133 1349959 1360564 1376150 1394977 1409250 1425411 1438238      NA\n",
       "2022      NA      NA                                                        \n",
       "         Oct     Nov     Dec\n",
       "2014 1043390 1067951 1106386\n",
       "2015 1299784 1304840 1301153\n",
       "2016 1264862 1255793 1259410\n",
       "2017 1337159 1354025 1354693\n",
       "2018 1433459 1420013 1410432\n",
       "2019 1334702 1338680 1343816\n",
       "2020 1329429 1333865 1342000\n",
       "2021      NA      NA      NA\n",
       "2022                        \n",
       "\n",
       "$random\n",
       "             Jan         Feb         Mar         Apr         May         Jun\n",
       "2014          NA          NA          NA          NA          NA          NA\n",
       "2015  -46488.712  -83217.463   -7960.125   88517.295   87099.295  194152.331\n",
       "2016   29125.142  160894.418   71141.048   42664.294    7058.591  -36655.739\n",
       "2017    5042.958  -34136.454  -77343.886  -36542.956  -87805.617  159329.321\n",
       "2018   19573.031 -150114.041 -249933.313   60353.131   74504.307 -125258.223\n",
       "2019   63451.243   68731.266 -104948.981 -103181.887 -104873.962 -130060.674\n",
       "2020  -76834.059   71604.191  152289.435  -54800.023   51229.127  -83111.463\n",
       "2021    6172.488  -33719.826  216797.913    3032.237  -27169.648   21646.538\n",
       "2022          NA          NA                                                \n",
       "             Jul         Aug         Sep         Oct         Nov         Dec\n",
       "2014  -70866.764   54726.886   66540.144   29035.643 -159494.405  -23277.636\n",
       "2015   15911.180   27295.777  -35425.393 -100432.875 -214528.018   31070.598\n",
       "2016    8365.942   54750.344   26796.640  -33539.726  -18290.449 -111574.280\n",
       "2017  -78357.812  -71024.904  200782.761  132219.060   73069.603   20662.268\n",
       "2018   53051.591 -133226.783  -67082.052  272807.279  171891.352   69132.774\n",
       "2019  154160.800   54776.752  -37036.863 -216524.154  164541.241  -11254.446\n",
       "2020   49879.360   -6550.114 -154533.146  -83523.135  -17147.233   25282.814\n",
       "2021 -132096.192   19300.145          NA          NA          NA          NA\n",
       "2022                                                                        \n",
       "\n",
       "$figure\n",
       " [1] -175772.15 -272243.42 -110278.25  -57445.89  195855.23  298055.28\n",
       " [7]  142349.92  117925.57   59579.84 -165933.68   35511.41  -67603.86\n",
       "\n",
       "$type\n",
       "[1] \"additive\"\n",
       "\n",
       "attr(,\"class\")\n",
       "[1] \"decomposed.ts\""
      ]
     },
     "metadata": {},
     "output_type": "display_data"
    }
   ],
   "source": [
    "decompose(Maiz_ts) #Descomposicón de la serie por el método decompose "
   ]
  },
  {
   "cell_type": "code",
   "execution_count": 118,
   "id": "c4144ee8",
   "metadata": {},
   "outputs": [
    {
     "name": "stderr",
     "output_type": "stream",
     "text": [
      "Warning message:\n",
      "\"Removed 12 rows containing missing values (geom_path).\""
     ]
    },
    {
     "data": {
      "image/png": "[encoded data removed]",
      "text/plain": [
       "plot without title"
      ]
     },
     "metadata": {},
     "output_type": "display_data"
    }
   ],
   "source": [
    "autoplot(Maiz_ts, colour =\"red\")+\n",
    "geom_line(aes(y=decompose$trend), colour = \"blue\")+\n",
    "labs(y =\"Toneladas netas\", title = \"Toneladas netas del maiz\")"
   ]
  },
  {
   "cell_type": "code",
   "execution_count": 120,
   "id": "445ada30",
   "metadata": {},
   "outputs": [
    {
     "data": {
      "image/png": "[encoded data removed]",
      "text/plain": [
       "plot without title"
      ]
     },
     "metadata": {},
     "output_type": "display_data"
    }
   ],
   "source": [
    "autoplot(decompose(Maiz_ts))"
   ]
  },
  {
   "cell_type": "markdown",
   "id": "1a3c33c8",
   "metadata": {},
   "source": [
    "<h3> 3.2.3 Datos desestacionalizados </h3>"
   ]
  },
  {
   "cell_type": "markdown",
   "id": "1b5c8c6e",
   "metadata": {},
   "source": [
    "Si el componente estacional se elimina de los datos originales, los valores resultantes son los **\"Datos ajustados estacionalmente\"**. Para una *descomposición aditiva*, los datos ajustados estacionalmente están dados por $y_t-S_t$, y para datos multiplicativos, los valores ajustados estacionalmente se obtienen usando $\\frac{y_t}{S_t}$.\n",
    "\n",
    "\n",
    "\n",
    "Si la variación por estacionalidad no es de interés primario, la serie desestacionalizada puede ser útil. Por ejemplo, los datos mensuales de desempleo generalmente se ajustan estacionalmente para resaltar la variación debida al estado subyacente de la economía en lugar de la variación estacional. Un aumento en el desempleo debido a que abandonan la escuela y buscan trabajo es una variación estacional, mientras que un aumento en el desempleo debido a una recesión económica no es estacional. La mayoría de los analistas económicos que estudian los datos de desempleo están interesados en la variación NO estacional. En consecuencia, los datos de desempleo (y muchas otras series económicas) suelen estar desestacionalizadas. \n",
    "\n",
    "Las series desestacionalizadas contienen el componente de resto, así como el ciclo de tendencia. Por lo tanto, no son \"suaves\" y las \"descensos\" o \"alzas\" pueden ser engañosas. Si el propósito es buscar puntos de inflexión en una serie e interpretar cualquier cambio de dirección, entonces es mejor utilizar el componente de tendencia-ciclo en lugar de los datos ajustados estacionalmente."
   ]
  },
  {
   "cell_type": "markdown",
   "id": "ff3b63dd",
   "metadata": {},
   "source": [
    "<h2> 3.3 Medias Móviles </h2>\n",
    "\n",
    "El método clásico de descomposición de series de tiempo se originó en la década de $1920$ y fue ampliamente utilizado hasta la década de $1950$. Todavía constituye la base de muchos métodos de descomposición de series temporales, por lo que es importante entender como funcionan. El primer paso en una descomposición clásica es usar un método de promedio móvil para estimar el ciclo de tendencia, por lo que comenzaremos analizando los promedios móviles.\n",
    "\n",
    "<h3> 3.3.1 Suavizado de la media móvil </h3>\n",
    "\n",
    "Una media móvil de orden $m$ se puede escribir como:$$\\hat{T}_t=\\frac{1}{m}\\sum _{j=-k}^{k}y_{t+j}$$ donde $m=2k+1$. Es decir, la estimación de la tendencia-ciclo en el momento $t$ se obtiene promediando los valores de la serie temporal dentro de $k$ períodos de $t$. También es probable que las observaciones que están cercanas en el tiempo tengan un valor cercano. Por lo tanto, el promedio elimina parte de la aleatoriedad en los datos, dejando un componente suave de ciclo-tendencia. A esto le llamamos $m$**-MA**, lo que significa un promedio móvil de orden $m$.\n",
    "\n",
    "El orden de la media móvil determina la suavidad de la estimación del ciclo de tendencia. En general, un pedido más grande significa una curva más suave."
   ]
  },
  {
   "cell_type": "code",
   "execution_count": 1,
   "id": "1ad645a8",
   "metadata": {},
   "outputs": [
    {
     "ename": "ERROR",
     "evalue": "Error in T_N_P %>% select(0, MAÍZ) %>% mutate(`5-MA` = rollmean(MAÍZ, : no se pudo encontrar la función \"%>%\"\n",
     "output_type": "error",
     "traceback": [
      "Error in T_N_P %>% select(0, MAÍZ) %>% mutate(`5-MA` = rollmean(MAÍZ, : no se pudo encontrar la función \"%>%\"\nTraceback:\n"
     ]
    }
   ],
   "source": [
    "MM_Maiz<-T_N_P %>% select(0, MAÍZ) %>% mutate(\"5-MA\"=rollmean(MAÍZ,k=12,fill=NA))\n",
    "MM_Maiz"
   ]
  },
  {
   "cell_type": "markdown",
   "id": "f4cbf296",
   "metadata": {},
   "source": [
    "En la última comulna de esta tabla, se muestra una media móvil de orden $m=5$, que proporciona una estimación de la tendencia-ciclo. El primer valor de esta columna es el promedio de las primero $5$ observaciones, $ene.2014-mayo.2014$; el segundo valor en la columna **5-MA** es el promedio de los valores para $feb.2014-jun.2014$ y así sucesivamente.\n",
    "Cada valor en la columna **5-MA** es el promedio de las observaciones en la ventana de $5$ meses centrada en el mes correspondiente. \n",
    "\n",
    "La columna **5-MA** cotniene los valores de $\\hat{T}_t$ con $m=2k+1=5$ y $k=2$. No hay valores ni para los primeros dos años ni pra los dos últimos años, porque no tenemos observaciones en cada lado"
   ]
  },
  {
   "cell_type": "code",
   "execution_count": 255,
   "id": "a757ef57",
   "metadata": {},
   "outputs": [
    {
     "name": "stderr",
     "output_type": "stream",
     "text": [
      "Warning message:\n",
      "\"Removed 4 rows containing missing values (geom_path).\""
     ]
    },
    {
     "data": {
      "image/png": "[encoded data removed]",
      "text/plain": [
       "plot without title"
      ]
     },
     "metadata": {},
     "output_type": "display_data"
    }
   ],
   "source": [
    "m5_MA <- ts(MM_Maiz[,2], frequency =12 , start=c(2014,1)) #Para poder graficar 5-MA\n",
    "autoplot(Maiz_ts, colour =\"red\")+\n",
    "geom_line(aes(y=m5_MA), colour = \"blue\")+\n",
    "labs(y =\"Toneladas netas\", title = \"Toneladas netas del maiz\")"
   ]
  },
  {
   "cell_type": "markdown",
   "id": "e8976ff5",
   "metadata": {},
   "source": [
    "<h2> 3.6 Descomposición STL </h2>\n",
    "\n",
    "STL es un método versátil y robusto para descomponer series de tiempo. STL es un acrónimo de \"Descomposición estacional y de tendencias usando Loess\", mientras que Loess es un método para estimar relaciones NO lineales. El método STL fue desarrollado por RB Clevenland.  \n",
    "\n",
    "STL tiene varias ventajas sobre las descomposición clásica y los métodos $SEATS$ y $X-11$.\n",
    "* A diferencias de $SEATS$ y $X-11$, $STL$ manejará cualquier tipo de estacionalidad, no solo datos mensuales y trimestrales.\n",
    "* Se permite que el componente estacional cambie con el tiempo, y el usuario puede controlar la tasa de cambio.\n",
    "* La suavidad del ciclo de tendencia también puede controlar la tasa de cambio.\n",
    "* Puede ser resistente a valores típicos (es decir, el usuario puede especificar una descomposición robusta), de modo que las observaciones inusuales ocasionales no afectarán las estimaciones y de tendencia-ciclo. Sin embargo, afectaráan al componente restante."
   ]
  },
  {
   "cell_type": "code",
   "execution_count": 140,
   "id": "b08e4fe4",
   "metadata": {},
   "outputs": [
    {
     "name": "stderr",
     "output_type": "stream",
     "text": [
      "ERROR while rich displaying an object: Error in repr_matrix_generic(obj, \"\\n%s%s\\n\", sprintf(\"|%%s\\n|%s|\\n\", : el argumento formal \"cols\" concuerda con múltiples argumentos especificados\n",
      "\n",
      "Traceback:\n",
      "1. FUN(X[[i]], ...)\n",
      "2. tryCatch(withCallingHandlers({\n",
      " .     if (!mime %in% names(repr::mime2repr)) \n",
      " .         stop(\"No repr_* for mimetype \", mime, \" in repr::mime2repr\")\n",
      " .     rpr <- repr::mime2repr[[mime]](obj)\n",
      " .     if (is.null(rpr)) \n",
      " .         return(NULL)\n",
      " .     prepare_content(is.raw(rpr), rpr)\n",
      " . }, error = error_handler), error = outer_handler)\n",
      "3. tryCatchList(expr, classes, parentenv, handlers)\n",
      "4. tryCatchOne(expr, names, parentenv, handlers[[1L]])\n",
      "5. doTryCatch(return(expr), name, parentenv, handler)\n",
      "6. withCallingHandlers({\n",
      " .     if (!mime %in% names(repr::mime2repr)) \n",
      " .         stop(\"No repr_* for mimetype \", mime, \" in repr::mime2repr\")\n",
      " .     rpr <- repr::mime2repr[[mime]](obj)\n",
      " .     if (is.null(rpr)) \n",
      " .         return(NULL)\n",
      " .     prepare_content(is.raw(rpr), rpr)\n",
      " . }, error = error_handler)\n",
      "7. repr::mime2repr[[mime]](obj)\n",
      "8. repr_markdown.ts(obj)\n",
      "9. repr_ts_generic(obj, repr_markdown.matrix, ...)\n",
      "10. repr_func(m, ..., rows = nrow(m), cols = ncol(m))\n"
     ]
    },
    {
     "data": {
      "text/html": [
       "<table>\n",
       "<thead><tr><th></th><th scope=col>Jan</th><th scope=col>Feb</th><th scope=col>Mar</th><th scope=col>Apr</th><th scope=col>May</th><th scope=col>Jun</th><th scope=col>Jul</th><th scope=col>Aug</th><th scope=col>Sep</th><th scope=col>Oct</th><th scope=col>Nov</th><th scope=col>Dec</th></tr></thead>\n",
       "<tbody>\n",
       "\t<tr><th scope=row>2014</th><td>1037733.6</td><td> 841936.6</td><td> 968867.5</td><td>1061894.8</td><td>1046361.4</td><td>1220890.4</td><td>1109470.9</td><td>1203979.7</td><td>1159457.2</td><td> 906492.2</td><td> 943968.5</td><td>1015504.7</td></tr>\n",
       "\t<tr><th scope=row>2015</th><td> 916324.4</td><td> 803495.1</td><td>1055547.1</td><td>1216488.3</td><td>1481237.2</td><td>1708447.4</td><td>1394690.7</td><td>1407658.0</td><td>1311686.6</td><td>1033417.1</td><td>1125823.7</td><td>1264619.4</td></tr>\n",
       "\t<tr><th scope=row>2016</th><td>1151765.0</td><td>1192223.4</td><td>1269109.9</td><td>1296962.5</td><td>1522123.0</td><td>1579058.8</td><td>1458302.9</td><td>1467896.1</td><td>1363641.1</td><td>1065388.9</td><td>1273013.8</td><td>1080231.7</td></tr>\n",
       "\t<tr><th scope=row>2017</th><td>1094419.1</td><td> 952764.9</td><td>1077635.7</td><td>1190780.7</td><td>1410637.8</td><td>1777352.4</td><td>1397730.8</td><td>1384385.5</td><td>1593865.6</td><td>1303444.0</td><td>1462605.5</td><td>1307751.5</td></tr>\n",
       "\t<tr><th scope=row>2018</th><td>1197400.4</td><td> 939691.1</td><td> 995145.6</td><td>1361005.3</td><td>1645195.0</td><td>1558841.7</td><td>1589994.9</td><td>1394899.8</td><td>1422756.9</td><td>1540333.0</td><td>1627415.7</td><td>1411960.7</td></tr>\n",
       "\t<tr><th scope=row>2019</th><td>1298361.2</td><td>1213312.8</td><td>1202920.1</td><td>1230037.4</td><td>1453447.6</td><td>1520640.7</td><td>1634203.5</td><td>1498119.5</td><td>1351274.6</td><td> 952244.0</td><td>1538732.2</td><td>1264958.0</td></tr>\n",
       "\t<tr><th scope=row>2020</th><td>1086484.4</td><td>1130574.9</td><td>1365206.0</td><td>1211035.2</td><td>1567916.6</td><td>1529451.7</td><td>1511977.6</td><td>1431310.0</td><td>1225618.7</td><td>1079972.6</td><td>1352228.9</td><td>1299678.9</td></tr>\n",
       "\t<tr><th scope=row>2021</th><td>1177533.1</td><td>1043996.2</td><td>1467083.3</td><td>1321736.0</td><td>1563662.3</td><td>1728951.7</td><td>1435664.5</td><td>1575463.4</td><td>1335967.8</td><td>1343687.9</td><td>1540361.6</td><td>1454103.5</td></tr>\n",
       "\t<tr><th scope=row>2022</th><td>1410967.6</td><td>1118409.3</td><td>         </td><td>         </td><td>         </td><td>         </td><td>         </td><td>         </td><td>         </td><td>         </td><td>         </td><td>         </td></tr>\n",
       "</tbody>\n",
       "</table>\n"
      ],
      "text/latex": [
       "\\begin{tabular}{r|llllllllllll}\n",
       "  & Jan & Feb & Mar & Apr & May & Jun & Jul & Aug & Sep & Oct & Nov & Dec\\\\\n",
       "\\hline\n",
       "\t2014 & 1037733.6 &  841936.6 &  968867.5 & 1061894.8 & 1046361.4 & 1220890.4 & 1109470.9 & 1203979.7 & 1159457.2 &  906492.2 &  943968.5 & 1015504.7\\\\\n",
       "\t2015 &  916324.4 &  803495.1 & 1055547.1 & 1216488.3 & 1481237.2 & 1708447.4 & 1394690.7 & 1407658.0 & 1311686.6 & 1033417.1 & 1125823.7 & 1264619.4\\\\\n",
       "\t2016 & 1151765.0 & 1192223.4 & 1269109.9 & 1296962.5 & 1522123.0 & 1579058.8 & 1458302.9 & 1467896.1 & 1363641.1 & 1065388.9 & 1273013.8 & 1080231.7\\\\\n",
       "\t2017 & 1094419.1 &  952764.9 & 1077635.7 & 1190780.7 & 1410637.8 & 1777352.4 & 1397730.8 & 1384385.5 & 1593865.6 & 1303444.0 & 1462605.5 & 1307751.5\\\\\n",
       "\t2018 & 1197400.4 &  939691.1 &  995145.6 & 1361005.3 & 1645195.0 & 1558841.7 & 1589994.9 & 1394899.8 & 1422756.9 & 1540333.0 & 1627415.7 & 1411960.7\\\\\n",
       "\t2019 & 1298361.2 & 1213312.8 & 1202920.1 & 1230037.4 & 1453447.6 & 1520640.7 & 1634203.5 & 1498119.5 & 1351274.6 &  952244.0 & 1538732.2 & 1264958.0\\\\\n",
       "\t2020 & 1086484.4 & 1130574.9 & 1365206.0 & 1211035.2 & 1567916.6 & 1529451.7 & 1511977.6 & 1431310.0 & 1225618.7 & 1079972.6 & 1352228.9 & 1299678.9\\\\\n",
       "\t2021 & 1177533.1 & 1043996.2 & 1467083.3 & 1321736.0 & 1563662.3 & 1728951.7 & 1435664.5 & 1575463.4 & 1335967.8 & 1343687.9 & 1540361.6 & 1454103.5\\\\\n",
       "\t2022 & 1410967.6 & 1118409.3 &           &           &           &           &           &           &           &           &           &          \\\\\n",
       "\\end{tabular}\n"
      ],
      "text/plain": [
       "     Jan       Feb       Mar       Apr       May       Jun       Jul      \n",
       "2014 1037733.6  841936.6  968867.5 1061894.8 1046361.4 1220890.4 1109470.9\n",
       "2015  916324.4  803495.1 1055547.1 1216488.3 1481237.2 1708447.4 1394690.7\n",
       "2016 1151765.0 1192223.4 1269109.9 1296962.5 1522123.0 1579058.8 1458302.9\n",
       "2017 1094419.1  952764.9 1077635.7 1190780.7 1410637.8 1777352.4 1397730.8\n",
       "2018 1197400.4  939691.1  995145.6 1361005.3 1645195.0 1558841.7 1589994.9\n",
       "2019 1298361.2 1213312.8 1202920.1 1230037.4 1453447.6 1520640.7 1634203.5\n",
       "2020 1086484.4 1130574.9 1365206.0 1211035.2 1567916.6 1529451.7 1511977.6\n",
       "2021 1177533.1 1043996.2 1467083.3 1321736.0 1563662.3 1728951.7 1435664.5\n",
       "2022 1410967.6 1118409.3                                                  \n",
       "     Aug       Sep       Oct       Nov       Dec      \n",
       "2014 1203979.7 1159457.2  906492.2  943968.5 1015504.7\n",
       "2015 1407658.0 1311686.6 1033417.1 1125823.7 1264619.4\n",
       "2016 1467896.1 1363641.1 1065388.9 1273013.8 1080231.7\n",
       "2017 1384385.5 1593865.6 1303444.0 1462605.5 1307751.5\n",
       "2018 1394899.8 1422756.9 1540333.0 1627415.7 1411960.7\n",
       "2019 1498119.5 1351274.6  952244.0 1538732.2 1264958.0\n",
       "2020 1431310.0 1225618.7 1079972.6 1352228.9 1299678.9\n",
       "2021 1575463.4 1335967.8 1343687.9 1540361.6 1454103.5\n",
       "2022                                                  "
      ]
     },
     "metadata": {},
     "output_type": "display_data"
    }
   ],
   "source": [
    "Maiz_ts"
   ]
  },
  {
   "cell_type": "code",
   "execution_count": null,
   "id": "6d6a1866",
   "metadata": {},
   "outputs": [],
   "source": []
  }
 ],
 "metadata": {
  "kernelspec": {
   "display_name": "R 4.1.3",
   "language": "R",
   "name": "ir35"
  },
  "language_info": {
   "codemirror_mode": "r",
   "file_extension": ".r",
   "mimetype": "text/x-r-source",
   "name": "R",
   "pygments_lexer": "r",
   "version": "3.6.1"
  }
 },
 "nbformat": 4,
 "nbformat_minor": 5
}
